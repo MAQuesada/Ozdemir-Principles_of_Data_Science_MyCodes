{
 "cells": [
  {
   "cell_type": "code",
   "execution_count": 1,
   "metadata": {},
   "outputs": [
    {
     "name": "stdout",
     "output_type": "stream",
     "text": [
      "0.5\n",
      "0.0\n",
      "-0.8\n"
     ]
    }
   ],
   "source": [
    "from textblob import TextBlob # librería para procesar datos de texto\n",
    "\n",
    "print(TextBlob('I love you').sentiment.polarity)\n",
    "print(TextBlob('text').sentiment.polarity)\n",
    "print(TextBlob('I hate').sentiment.polarity)\n"
   ]
  },
  {
   "cell_type": "markdown",
   "metadata": {},
   "source": [
    "Los valores de los sentimientso estan entre (-1-1),sentimiento neutral es valor alrededor de 0, negativo es cerca de -1 y positivo es aeca de 1"
   ]
  },
  {
   "cell_type": "code",
   "execution_count": 2,
   "metadata": {},
   "outputs": [
    {
     "name": "stdout",
     "output_type": "stream",
     "text": [
      "dimensiones: (52512, 4)\n",
      "Valores nulos: \n",
      " Text           0\n",
      "Date           0\n",
      "Status         0\n",
      "Retweet    42471\n",
      "dtype: int64\n"
     ]
    },
    {
     "data": {
      "text/html": [
       "<div>\n",
       "<style scoped>\n",
       "    .dataframe tbody tr th:only-of-type {\n",
       "        vertical-align: middle;\n",
       "    }\n",
       "\n",
       "    .dataframe tbody tr th {\n",
       "        vertical-align: top;\n",
       "    }\n",
       "\n",
       "    .dataframe thead th {\n",
       "        text-align: right;\n",
       "    }\n",
       "</style>\n",
       "<table border=\"1\" class=\"dataframe\">\n",
       "  <thead>\n",
       "    <tr style=\"text-align: right;\">\n",
       "      <th></th>\n",
       "      <th>Text</th>\n",
       "      <th>Date</th>\n",
       "      <th>Status</th>\n",
       "      <th>Retweet</th>\n",
       "    </tr>\n",
       "  </thead>\n",
       "  <tbody>\n",
       "    <tr>\n",
       "      <th>0</th>\n",
       "      <td>RT @j_o_h_n_danger: $TWTR now top holding for ...</td>\n",
       "      <td>2015-05-24 03:46:08</td>\n",
       "      <td>602319644234395648</td>\n",
       "      <td>6.022899e+17</td>\n",
       "    </tr>\n",
       "    <tr>\n",
       "      <th>1</th>\n",
       "      <td>RT diggingplatinum RT WWalkerWW: iOS 9 vs. And...</td>\n",
       "      <td>2015-05-24 04:17:42</td>\n",
       "      <td>602327586983796737</td>\n",
       "      <td>NaN</td>\n",
       "    </tr>\n",
       "    <tr>\n",
       "      <th>2</th>\n",
       "      <td>RT bosocial RT insidermonkey RT j_o_h_n_danger...</td>\n",
       "      <td>2015-05-24 04:13:22</td>\n",
       "      <td>602326499534966784</td>\n",
       "      <td>NaN</td>\n",
       "    </tr>\n",
       "    <tr>\n",
       "      <th>3</th>\n",
       "      <td>RT @WWalkerWW: iOS 9 vs. Android M – The New F...</td>\n",
       "      <td>2015-05-24 04:08:34</td>\n",
       "      <td>602325288740114432</td>\n",
       "      <td>6.023104e+17</td>\n",
       "    </tr>\n",
       "    <tr>\n",
       "      <th>4</th>\n",
       "      <td>RT @seeitmarket: Apple Chart Update: Big Test ...</td>\n",
       "      <td>2015-05-24 04:04:42</td>\n",
       "      <td>602324318903771136</td>\n",
       "      <td>6.023215e+17</td>\n",
       "    </tr>\n",
       "  </tbody>\n",
       "</table>\n",
       "</div>"
      ],
      "text/plain": [
       "                                                Text                 Date  \\\n",
       "0  RT @j_o_h_n_danger: $TWTR now top holding for ...  2015-05-24 03:46:08   \n",
       "1  RT diggingplatinum RT WWalkerWW: iOS 9 vs. And...  2015-05-24 04:17:42   \n",
       "2  RT bosocial RT insidermonkey RT j_o_h_n_danger...  2015-05-24 04:13:22   \n",
       "3  RT @WWalkerWW: iOS 9 vs. Android M – The New F...  2015-05-24 04:08:34   \n",
       "4  RT @seeitmarket: Apple Chart Update: Big Test ...  2015-05-24 04:04:42   \n",
       "\n",
       "               Status       Retweet  \n",
       "0  602319644234395648  6.022899e+17  \n",
       "1  602327586983796737           NaN  \n",
       "2  602326499534966784           NaN  \n",
       "3  602325288740114432  6.023104e+17  \n",
       "4  602324318903771136  6.023215e+17  "
      ]
     },
     "execution_count": 2,
     "metadata": {},
     "output_type": "execute_result"
    }
   ],
   "source": [
    "# read in tweets data into a dataframe\n",
    "import pandas as pd\n",
    "# these tweets are from last May and are about Apple (AAPL)\n",
    "tweets = pd.read_csv('./so_many_tweets.csv')\n",
    "print(f'dimensiones: {tweets.shape}\\nValores nulos: \\n', tweets.isnull().sum())\n",
    "tweets.head()\n"
   ]
  },
  {
   "cell_type": "markdown",
   "metadata": {},
   "source": [
    "# **Exploratory data analysis (EDA)**\n",
    "So we have four columns:\n",
    "*  Text: Unstructured text at the nominal level\n",
    "*  Date: Datetime (we will think of datetime in a continuous way)\n",
    "*  Status: Status unique ID at the nominal level\n",
    "*  Retweet: Status ID of tweet that this tweet was a retweet at the nominal level\n",
    "\n",
    "We have 52512 rows that represents a singles tweet. Nuestro objetivo es usar el sentimiento de los tweets, por eso debemos crear dicha columna. "
   ]
  },
  {
   "cell_type": "code",
   "execution_count": 3,
   "metadata": {},
   "outputs": [
    {
     "data": {
      "text/html": [
       "<div>\n",
       "<style scoped>\n",
       "    .dataframe tbody tr th:only-of-type {\n",
       "        vertical-align: middle;\n",
       "    }\n",
       "\n",
       "    .dataframe tbody tr th {\n",
       "        vertical-align: top;\n",
       "    }\n",
       "\n",
       "    .dataframe thead th {\n",
       "        text-align: right;\n",
       "    }\n",
       "</style>\n",
       "<table border=\"1\" class=\"dataframe\">\n",
       "  <thead>\n",
       "    <tr style=\"text-align: right;\">\n",
       "      <th></th>\n",
       "      <th>Text</th>\n",
       "      <th>Date</th>\n",
       "      <th>Status</th>\n",
       "      <th>Retweet</th>\n",
       "      <th>sentiment</th>\n",
       "    </tr>\n",
       "  </thead>\n",
       "  <tbody>\n",
       "    <tr>\n",
       "      <th>0</th>\n",
       "      <td>RT @j_o_h_n_danger: $TWTR now top holding for ...</td>\n",
       "      <td>2015-05-24</td>\n",
       "      <td>602319644234395648</td>\n",
       "      <td>6.022899e+17</td>\n",
       "      <td>0.500000</td>\n",
       "    </tr>\n",
       "    <tr>\n",
       "      <th>1</th>\n",
       "      <td>RT diggingplatinum RT WWalkerWW: iOS 9 vs. And...</td>\n",
       "      <td>2015-05-24</td>\n",
       "      <td>602327586983796737</td>\n",
       "      <td>NaN</td>\n",
       "      <td>0.136364</td>\n",
       "    </tr>\n",
       "    <tr>\n",
       "      <th>2</th>\n",
       "      <td>RT bosocial RT insidermonkey RT j_o_h_n_danger...</td>\n",
       "      <td>2015-05-24</td>\n",
       "      <td>602326499534966784</td>\n",
       "      <td>NaN</td>\n",
       "      <td>0.500000</td>\n",
       "    </tr>\n",
       "    <tr>\n",
       "      <th>3</th>\n",
       "      <td>RT @WWalkerWW: iOS 9 vs. Android M – The New F...</td>\n",
       "      <td>2015-05-24</td>\n",
       "      <td>602325288740114432</td>\n",
       "      <td>6.023104e+17</td>\n",
       "      <td>0.136364</td>\n",
       "    </tr>\n",
       "    <tr>\n",
       "      <th>4</th>\n",
       "      <td>RT @seeitmarket: Apple Chart Update: Big Test ...</td>\n",
       "      <td>2015-05-24</td>\n",
       "      <td>602324318903771136</td>\n",
       "      <td>6.023215e+17</td>\n",
       "      <td>0.000000</td>\n",
       "    </tr>\n",
       "  </tbody>\n",
       "</table>\n",
       "</div>"
      ],
      "text/plain": [
       "                                                Text       Date  \\\n",
       "0  RT @j_o_h_n_danger: $TWTR now top holding for ... 2015-05-24   \n",
       "1  RT diggingplatinum RT WWalkerWW: iOS 9 vs. And... 2015-05-24   \n",
       "2  RT bosocial RT insidermonkey RT j_o_h_n_danger... 2015-05-24   \n",
       "3  RT @WWalkerWW: iOS 9 vs. Android M – The New F... 2015-05-24   \n",
       "4  RT @seeitmarket: Apple Chart Update: Big Test ... 2015-05-24   \n",
       "\n",
       "               Status       Retweet  sentiment  \n",
       "0  602319644234395648  6.022899e+17   0.500000  \n",
       "1  602327586983796737           NaN   0.136364  \n",
       "2  602326499534966784           NaN   0.500000  \n",
       "3  602325288740114432  6.023104e+17   0.136364  \n",
       "4  602324318903771136  6.023215e+17   0.000000  "
      ]
     },
     "execution_count": 3,
     "metadata": {},
     "output_type": "execute_result"
    }
   ],
   "source": [
    "tweets['sentiment'] = tweets.Text.apply( lambda x :TextBlob(str(x)).sentiment.polarity)\n",
    "\n",
    "# asegurar que la columna Date sea un pd.Datetime(por todas las funciones que tiene esta clase\n",
    "tweets['Date'] = pd.to_datetime(tweets.Date.apply( lambda x :str(x)[:10]))\n",
    "tweets.head()"
   ]
  },
  {
   "cell_type": "markdown",
   "metadata": {},
   "source": [
    "Ahora haremos que cada fila represente un dia de tweets"
   ]
  },
  {
   "cell_type": "code",
   "execution_count": 4,
   "metadata": {},
   "outputs": [
    {
     "name": "stderr",
     "output_type": "stream",
     "text": [
      "C:\\Users\\Manue!_PC\\AppData\\Local\\Temp\\ipykernel_25500\\1350643886.py:2: FutureWarning: Passing a set as an indexer is deprecated and will raise in a future version. Use a list instead.\n",
      "  daily_tweets = tweets.groupby('Date').mean()[{'sentiment'}]\n"
     ]
    },
    {
     "data": {
      "text/html": [
       "<div>\n",
       "<style scoped>\n",
       "    .dataframe tbody tr th:only-of-type {\n",
       "        vertical-align: middle;\n",
       "    }\n",
       "\n",
       "    .dataframe tbody tr th {\n",
       "        vertical-align: top;\n",
       "    }\n",
       "\n",
       "    .dataframe thead th {\n",
       "        text-align: right;\n",
       "    }\n",
       "</style>\n",
       "<table border=\"1\" class=\"dataframe\">\n",
       "  <thead>\n",
       "    <tr style=\"text-align: right;\">\n",
       "      <th></th>\n",
       "      <th>sentiment</th>\n",
       "    </tr>\n",
       "    <tr>\n",
       "      <th>Date</th>\n",
       "      <th></th>\n",
       "    </tr>\n",
       "  </thead>\n",
       "  <tbody>\n",
       "    <tr>\n",
       "      <th>2015-05-02</th>\n",
       "      <td>0.083031</td>\n",
       "    </tr>\n",
       "    <tr>\n",
       "      <th>2015-05-03</th>\n",
       "      <td>0.107045</td>\n",
       "    </tr>\n",
       "    <tr>\n",
       "      <th>2015-05-04</th>\n",
       "      <td>0.084062</td>\n",
       "    </tr>\n",
       "    <tr>\n",
       "      <th>2015-05-05</th>\n",
       "      <td>0.063895</td>\n",
       "    </tr>\n",
       "    <tr>\n",
       "      <th>2015-05-06</th>\n",
       "      <td>0.067004</td>\n",
       "    </tr>\n",
       "  </tbody>\n",
       "</table>\n",
       "</div>"
      ],
      "text/plain": [
       "            sentiment\n",
       "Date                 \n",
       "2015-05-02   0.083031\n",
       "2015-05-03   0.107045\n",
       "2015-05-04   0.084062\n",
       "2015-05-05   0.063895\n",
       "2015-05-06   0.067004"
      ]
     },
     "execution_count": 4,
     "metadata": {},
     "output_type": "execute_result"
    },
    {
     "data": {
      "image/png": "[encoded data removed]",
      "text/plain": [
       "<Figure size 432x288 with 1 Axes>"
      ]
     },
     "metadata": {
      "needs_background": "light"
     },
     "output_type": "display_data"
    }
   ],
   "source": [
    "# create a dataframe called daily_tweets which resamples tweets by Date, averaging the columns\n",
    "daily_tweets = tweets.groupby('Date').mean()[{'sentiment'}]\n",
    "# I only want the sentiment column in my new Dataframe.\n",
    "\n",
    "# plot the sentiment as a line graph\n",
    "daily_tweets.sentiment.plot(kind='line')\n",
    "daily_tweets.head()"
   ]
  },
  {
   "cell_type": "code",
   "execution_count": 6,
   "metadata": {},
   "outputs": [
    {
     "data": {
      "text/html": [
       "<div>\n",
       "<style scoped>\n",
       "    .dataframe tbody tr th:only-of-type {\n",
       "        vertical-align: middle;\n",
       "    }\n",
       "\n",
       "    .dataframe tbody tr th {\n",
       "        vertical-align: top;\n",
       "    }\n",
       "\n",
       "    .dataframe thead th {\n",
       "        text-align: right;\n",
       "    }\n",
       "</style>\n",
       "<table border=\"1\" class=\"dataframe\">\n",
       "  <thead>\n",
       "    <tr style=\"text-align: right;\">\n",
       "      <th></th>\n",
       "      <th>High</th>\n",
       "      <th>Low</th>\n",
       "      <th>Open</th>\n",
       "      <th>Close</th>\n",
       "      <th>Volume</th>\n",
       "      <th>Adj Close</th>\n",
       "    </tr>\n",
       "    <tr>\n",
       "      <th>Date</th>\n",
       "      <th></th>\n",
       "      <th></th>\n",
       "      <th></th>\n",
       "      <th></th>\n",
       "      <th></th>\n",
       "      <th></th>\n",
       "    </tr>\n",
       "  </thead>\n",
       "  <tbody>\n",
       "    <tr>\n",
       "      <th>2015-05-04</th>\n",
       "      <td>32.642502</td>\n",
       "      <td>32.064999</td>\n",
       "      <td>32.375000</td>\n",
       "      <td>32.174999</td>\n",
       "      <td>203953200.0</td>\n",
       "      <td>29.124697</td>\n",
       "    </tr>\n",
       "    <tr>\n",
       "      <th>2015-05-05</th>\n",
       "      <td>32.112499</td>\n",
       "      <td>31.445000</td>\n",
       "      <td>32.037498</td>\n",
       "      <td>31.450001</td>\n",
       "      <td>197085600.0</td>\n",
       "      <td>28.468428</td>\n",
       "    </tr>\n",
       "    <tr>\n",
       "      <th>2015-05-06</th>\n",
       "      <td>31.687500</td>\n",
       "      <td>30.840000</td>\n",
       "      <td>31.639999</td>\n",
       "      <td>31.252501</td>\n",
       "      <td>288564000.0</td>\n",
       "      <td>28.289648</td>\n",
       "    </tr>\n",
       "    <tr>\n",
       "      <th>2015-05-07</th>\n",
       "      <td>31.520000</td>\n",
       "      <td>31.004999</td>\n",
       "      <td>31.192499</td>\n",
       "      <td>31.315001</td>\n",
       "      <td>175763600.0</td>\n",
       "      <td>28.464630</td>\n",
       "    </tr>\n",
       "    <tr>\n",
       "      <th>2015-05-08</th>\n",
       "      <td>31.905001</td>\n",
       "      <td>31.527500</td>\n",
       "      <td>31.670000</td>\n",
       "      <td>31.905001</td>\n",
       "      <td>222201600.0</td>\n",
       "      <td>29.000923</td>\n",
       "    </tr>\n",
       "  </tbody>\n",
       "</table>\n",
       "</div>"
      ],
      "text/plain": [
       "                 High        Low       Open      Close       Volume  Adj Close\n",
       "Date                                                                          \n",
       "2015-05-04  32.642502  32.064999  32.375000  32.174999  203953200.0  29.124697\n",
       "2015-05-05  32.112499  31.445000  32.037498  31.450001  197085600.0  28.468428\n",
       "2015-05-06  31.687500  30.840000  31.639999  31.252501  288564000.0  28.289648\n",
       "2015-05-07  31.520000  31.004999  31.192499  31.315001  175763600.0  28.464630\n",
       "2015-05-08  31.905001  31.527500  31.670000  31.905001  222201600.0  29.000923"
      ]
     },
     "execution_count": 6,
     "metadata": {},
     "output_type": "execute_result"
    }
   ],
   "source": [
    "'''obtener los preciso de las acciones en la fecha que tenemos los tweets'''\n",
    "\n",
    "import pandas as pd\n",
    "import pandas_datareader as pdr\n",
    "import datetime\n",
    "historical_prices = pdr.get_data_yahoo('AAPL',\n",
    "                                       start=datetime.datetime(2015, 5, 2),\n",
    "                                       end=datetime.datetime(2015, 5, 25))\n",
    "\n",
    "prices = pd.DataFrame(historical_prices)\n",
    "prices.head()\n"
   ]
  },
  {
   "cell_type": "code",
   "execution_count": null,
   "metadata": {},
   "outputs": [
    {
     "data": {
      "text/plain": [
       "<AxesSubplot:xlabel='Date'>"
      ]
     },
     "execution_count": 143,
     "metadata": {},
     "output_type": "execute_result"
    },
    {
     "data": {
      "image/png": "[encoded data removed]",
      "text/plain": [
       "<Figure size 432x288 with 1 Axes>"
      ]
     },
     "metadata": {
      "needs_background": "light"
     },
     "output_type": "display_data"
    }
   ],
   "source": [
    "prices[[\"Volume\", 'Close']].plot()\n"
   ]
  },
  {
   "cell_type": "markdown",
   "metadata": {},
   "source": [
    "Como vemos estas dos columnas estan en escalas muy muy diferentes "
   ]
  },
  {
   "cell_type": "code",
   "execution_count": null,
   "metadata": {},
   "outputs": [
    {
     "data": {
      "text/plain": [
       "<AxesSubplot:>"
      ]
     },
     "execution_count": 145,
     "metadata": {},
     "output_type": "execute_result"
    },
    {
     "data": {
      "image/png": "[encoded data removed]",
      "text/plain": [
       "<Figure size 432x288 with 1 Axes>"
      ]
     },
     "metadata": {
      "needs_background": "light"
     },
     "output_type": "display_data"
    }
   ],
   "source": [
    "from sklearn.preprocessing import StandardScaler\n",
    "\n",
    "# scale the columns by z scores using StandardScaler\n",
    "s = StandardScaler()\n",
    "price_volume_scaled = s.fit_transform(prices[[\"Volume\", 'Close']])\n",
    "\n",
    "# Then plot the scaled data\n",
    "pd.DataFrame(price_volume_scaled, columns=[\"Volume\", 'Close']).plot()"
   ]
  },
  {
   "cell_type": "code",
   "execution_count": null,
   "metadata": {},
   "outputs": [
    {
     "data": {
      "text/html": [
       "<div>\n",
       "<style scoped>\n",
       "    .dataframe tbody tr th:only-of-type {\n",
       "        vertical-align: middle;\n",
       "    }\n",
       "\n",
       "    .dataframe tbody tr th {\n",
       "        vertical-align: top;\n",
       "    }\n",
       "\n",
       "    .dataframe thead th {\n",
       "        text-align: right;\n",
       "    }\n",
       "</style>\n",
       "<table border=\"1\" class=\"dataframe\">\n",
       "  <thead>\n",
       "    <tr style=\"text-align: right;\">\n",
       "      <th></th>\n",
       "      <th>Close</th>\n",
       "      <th>sentiment</th>\n",
       "    </tr>\n",
       "    <tr>\n",
       "      <th>Date</th>\n",
       "      <th></th>\n",
       "      <th></th>\n",
       "    </tr>\n",
       "  </thead>\n",
       "  <tbody>\n",
       "    <tr>\n",
       "      <th>2015-05-02</th>\n",
       "      <td>NaN</td>\n",
       "      <td>0.083031</td>\n",
       "    </tr>\n",
       "    <tr>\n",
       "      <th>2015-05-03</th>\n",
       "      <td>NaN</td>\n",
       "      <td>0.107045</td>\n",
       "    </tr>\n",
       "    <tr>\n",
       "      <th>2015-05-04</th>\n",
       "      <td>32.174999</td>\n",
       "      <td>0.084062</td>\n",
       "    </tr>\n",
       "    <tr>\n",
       "      <th>2015-05-05</th>\n",
       "      <td>31.450001</td>\n",
       "      <td>0.063895</td>\n",
       "    </tr>\n",
       "    <tr>\n",
       "      <th>2015-05-06</th>\n",
       "      <td>31.252501</td>\n",
       "      <td>0.067004</td>\n",
       "    </tr>\n",
       "  </tbody>\n",
       "</table>\n",
       "</div>"
      ],
      "text/plain": [
       "                Close  sentiment\n",
       "Date                            \n",
       "2015-05-02        NaN   0.083031\n",
       "2015-05-03        NaN   0.107045\n",
       "2015-05-04  32.174999   0.084062\n",
       "2015-05-05  31.450001   0.063895\n",
       "2015-05-06  31.252501   0.067004"
      ]
     },
     "execution_count": 146,
     "metadata": {},
     "output_type": "execute_result"
    }
   ],
   "source": [
    "# concatinate prices.Close, and daily_tweets.sentiment\n",
    "merged = pd.concat([prices.Close, daily_tweets.sentiment], axis=1)\n",
    "merged.head()"
   ]
  },
  {
   "cell_type": "code",
   "execution_count": null,
   "metadata": {},
   "outputs": [
    {
     "data": {
      "text/plain": [
       "<AxesSubplot:>"
      ]
     },
     "execution_count": 150,
     "metadata": {},
     "output_type": "execute_result"
    },
    {
     "data": {
      "image/png": "[encoded data removed]",
      "text/plain": [
       "<Figure size 432x288 with 1 Axes>"
      ]
     },
     "metadata": {
      "needs_background": "light"
     },
     "output_type": "display_data"
    }
   ],
   "source": [
    "# Delete any rows with missing values in any column(in close missing values of the weekend)\n",
    "merged.dropna(inplace=True)\n",
    "\n",
    "# scale the columns by z scores using StandardScaler\n",
    "s = StandardScaler()\n",
    "merged_scaled = s.fit_transform(merged[['Close','sentiment']])\n",
    "pd.DataFrame(merged_scaled, columns=merged.columns).plot()\n"
   ]
  },
  {
   "cell_type": "markdown",
   "metadata": {},
   "source": [
    "PArece que se mueven juntas las dos variables. vamosa aplicarle  un algoritmo de aprendizaje automatizado a ver que resultado tenemos.Un detalle es que  queremos utilizar el sentimiento de los tweets para predecir los precios de las acciones del dia siguiente."
   ]
  },
  {
   "cell_type": "code",
   "execution_count": null,
   "metadata": {},
   "outputs": [
    {
     "data": {
      "text/html": [
       "<div>\n",
       "<style scoped>\n",
       "    .dataframe tbody tr th:only-of-type {\n",
       "        vertical-align: middle;\n",
       "    }\n",
       "\n",
       "    .dataframe tbody tr th {\n",
       "        vertical-align: top;\n",
       "    }\n",
       "\n",
       "    .dataframe thead th {\n",
       "        text-align: right;\n",
       "    }\n",
       "</style>\n",
       "<table border=\"1\" class=\"dataframe\">\n",
       "  <thead>\n",
       "    <tr style=\"text-align: right;\">\n",
       "      <th></th>\n",
       "      <th>Close</th>\n",
       "      <th>sentiment</th>\n",
       "      <th>yesterday_sentiment</th>\n",
       "    </tr>\n",
       "    <tr>\n",
       "      <th>Date</th>\n",
       "      <th></th>\n",
       "      <th></th>\n",
       "      <th></th>\n",
       "    </tr>\n",
       "  </thead>\n",
       "  <tbody>\n",
       "    <tr>\n",
       "      <th>2015-05-05</th>\n",
       "      <td>31.450001</td>\n",
       "      <td>0.063895</td>\n",
       "      <td>0.084062</td>\n",
       "    </tr>\n",
       "    <tr>\n",
       "      <th>2015-05-06</th>\n",
       "      <td>31.252501</td>\n",
       "      <td>0.067004</td>\n",
       "      <td>0.063895</td>\n",
       "    </tr>\n",
       "    <tr>\n",
       "      <th>2015-05-07</th>\n",
       "      <td>31.315001</td>\n",
       "      <td>0.078972</td>\n",
       "      <td>0.067004</td>\n",
       "    </tr>\n",
       "    <tr>\n",
       "      <th>2015-05-08</th>\n",
       "      <td>31.905001</td>\n",
       "      <td>0.102869</td>\n",
       "      <td>0.078972</td>\n",
       "    </tr>\n",
       "    <tr>\n",
       "      <th>2015-05-11</th>\n",
       "      <td>31.580000</td>\n",
       "      <td>0.067141</td>\n",
       "      <td>0.102869</td>\n",
       "    </tr>\n",
       "  </tbody>\n",
       "</table>\n",
       "</div>"
      ],
      "text/plain": [
       "                Close  sentiment  yesterday_sentiment\n",
       "Date                                                 \n",
       "2015-05-05  31.450001   0.063895             0.084062\n",
       "2015-05-06  31.252501   0.067004             0.063895\n",
       "2015-05-07  31.315001   0.078972             0.067004\n",
       "2015-05-08  31.905001   0.102869             0.078972\n",
       "2015-05-11  31.580000   0.067141             0.102869"
      ]
     },
     "execution_count": 166,
     "metadata": {},
     "output_type": "execute_result"
    }
   ],
   "source": [
    "\n",
    "# Shift the sentiment column backwards one item\n",
    "merged['yesterday_sentiment'] = merged['sentiment'].shift(1)\n",
    "merged.dropna(inplace=True)\n",
    "merged.head()\n"
   ]
  },
  {
   "cell_type": "markdown",
   "metadata": {},
   "source": [
    "We have two options:\n",
    "*  Keep our response quantitative and use a regression analysis\n",
    "*  Convert our response to a qualitative state and use classification\n",
    "\n",
    "Si solo desea asociar el movimiento del precio es recomendable usar la via de la clasificacion, cambio si desea asociar la cantidad de movimiento es necesario usar la regresión"
   ]
  },
  {
   "cell_type": "markdown",
   "metadata": {},
   "source": [
    "# **Regression Way** \n",
    ">Using RMSE as our metric"
   ]
  },
  {
   "cell_type": "code",
   "execution_count": null,
   "metadata": {},
   "outputs": [
    {
     "data": {
      "text/plain": [
       "0.8323645463903061"
      ]
     },
     "execution_count": 170,
     "metadata": {},
     "output_type": "execute_result"
    }
   ],
   "source": [
    "from sklearn.linear_model import LinearRegression\n",
    "from sklearn.model_selection import cross_val_score\n",
    "import numpy as np\n",
    "\n",
    "regression_df = merged[['yesterday_sentiment', 'Close']]\n",
    "linreg = LinearRegression()\n",
    "rmse_cv = abs(\n",
    "    cross_val_score(\n",
    "        linreg, regression_df[['yesterday_sentiment']],\n",
    "        regression_df['Close'],\n",
    "        cv=3, scoring='neg_root_mean_squared_error'))\n",
    "rmse_cv.mean()\n"
   ]
  },
  {
   "cell_type": "code",
   "execution_count": null,
   "metadata": {},
   "outputs": [
    {
     "data": {
      "text/plain": [
       "0.8420078221638119"
      ]
     },
     "execution_count": 172,
     "metadata": {},
     "output_type": "execute_result"
    }
   ],
   "source": [
    "from sklearn.ensemble import RandomForestRegressor\n",
    "\n",
    "rfor = RandomForestRegressor()\n",
    "rmse_cv = abs(\n",
    "    cross_val_score(\n",
    "        rfor, regression_df[['yesterday_sentiment']],\n",
    "        regression_df['Close'],\n",
    "        cv=3, scoring='neg_root_mean_squared_error'))\n",
    "rmse_cv.mean()\n"
   ]
  },
  {
   "cell_type": "markdown",
   "metadata": {},
   "source": [
    "El RMSE es aprocimadamente 0.84 en ambs modelos, lo que significa que esta fuera de de los valores casi un dolar. Una forma de comprobar la validez de nuestro modelo es comparandolo con el modelo nulo."
   ]
  },
  {
   "cell_type": "code",
   "execution_count": null,
   "metadata": {},
   "outputs": [
    {
     "data": {
      "text/plain": [
       "0.595473959497161"
      ]
     },
     "execution_count": 173,
     "metadata": {},
     "output_type": "execute_result"
    }
   ],
   "source": [
    "from sklearn.metrics import mean_squared_error\n",
    "# null model for regression\n",
    "mean_close = regression_df['Close'].mean()\n",
    "preds = [mean_close]*regression_df.shape[0]\n",
    "null_rmse = np.sqrt(mean_squared_error(preds, regression_df['Close']))\n",
    "null_rmse\n"
   ]
  },
  {
   "cell_type": "markdown",
   "metadata": {},
   "source": [
    "nuestro modelo nulo tiene menos error que nuestro modelo de regresion por lo que debemos pensar en lecamino de la clasificacion. Además debemos tener em cuenta que solo tenems un conjunto de datos con 15 puntos de datos, que no esta ni de cerca de ser un numero respetable de observaciones."
   ]
  },
  {
   "cell_type": "markdown",
   "metadata": {},
   "source": [
    "# **Classification Way** "
   ]
  },
  {
   "cell_type": "code",
   "execution_count": null,
   "metadata": {},
   "outputs": [
    {
     "data": {
      "text/html": [
       "<div>\n",
       "<style scoped>\n",
       "    .dataframe tbody tr th:only-of-type {\n",
       "        vertical-align: middle;\n",
       "    }\n",
       "\n",
       "    .dataframe tbody tr th {\n",
       "        vertical-align: top;\n",
       "    }\n",
       "\n",
       "    .dataframe thead th {\n",
       "        text-align: right;\n",
       "    }\n",
       "</style>\n",
       "<table border=\"1\" class=\"dataframe\">\n",
       "  <thead>\n",
       "    <tr style=\"text-align: right;\">\n",
       "      <th></th>\n",
       "      <th>yesterday_sentiment</th>\n",
       "      <th>Close</th>\n",
       "      <th>yesterday_close</th>\n",
       "      <th>percent_change_in_price</th>\n",
       "      <th>change_close</th>\n",
       "    </tr>\n",
       "    <tr>\n",
       "      <th>Date</th>\n",
       "      <th></th>\n",
       "      <th></th>\n",
       "      <th></th>\n",
       "      <th></th>\n",
       "      <th></th>\n",
       "    </tr>\n",
       "  </thead>\n",
       "  <tbody>\n",
       "    <tr>\n",
       "      <th>2015-05-06</th>\n",
       "      <td>0.063895</td>\n",
       "      <td>31.252501</td>\n",
       "      <td>31.450001</td>\n",
       "      <td>-0.006280</td>\n",
       "      <td>False</td>\n",
       "    </tr>\n",
       "    <tr>\n",
       "      <th>2015-05-07</th>\n",
       "      <td>0.067004</td>\n",
       "      <td>31.315001</td>\n",
       "      <td>31.252501</td>\n",
       "      <td>0.002000</td>\n",
       "      <td>False</td>\n",
       "    </tr>\n",
       "    <tr>\n",
       "      <th>2015-05-08</th>\n",
       "      <td>0.078972</td>\n",
       "      <td>31.905001</td>\n",
       "      <td>31.315001</td>\n",
       "      <td>0.018841</td>\n",
       "      <td>True</td>\n",
       "    </tr>\n",
       "    <tr>\n",
       "      <th>2015-05-11</th>\n",
       "      <td>0.102869</td>\n",
       "      <td>31.580000</td>\n",
       "      <td>31.905001</td>\n",
       "      <td>-0.010187</td>\n",
       "      <td>True</td>\n",
       "    </tr>\n",
       "    <tr>\n",
       "      <th>2015-05-12</th>\n",
       "      <td>0.067141</td>\n",
       "      <td>31.467501</td>\n",
       "      <td>31.580000</td>\n",
       "      <td>-0.003562</td>\n",
       "      <td>False</td>\n",
       "    </tr>\n",
       "  </tbody>\n",
       "</table>\n",
       "</div>"
      ],
      "text/plain": [
       "            yesterday_sentiment      Close  yesterday_close  \\\n",
       "Date                                                          \n",
       "2015-05-06             0.063895  31.252501        31.450001   \n",
       "2015-05-07             0.067004  31.315001        31.252501   \n",
       "2015-05-08             0.078972  31.905001        31.315001   \n",
       "2015-05-11             0.102869  31.580000        31.905001   \n",
       "2015-05-12             0.067141  31.467501        31.580000   \n",
       "\n",
       "            percent_change_in_price  change_close  \n",
       "Date                                               \n",
       "2015-05-06                -0.006280         False  \n",
       "2015-05-07                 0.002000         False  \n",
       "2015-05-08                 0.018841          True  \n",
       "2015-05-11                -0.010187          True  \n",
       "2015-05-12                -0.003562         False  "
      ]
     },
     "execution_count": 180,
     "metadata": {},
     "output_type": "execute_result"
    }
   ],
   "source": [
    "\n",
    "# Make a new dataframe for our classification and drop the null values\n",
    "classification_df = merged[['yesterday_sentiment', 'Close']]\n",
    "\n",
    "# variable to represent yesterday's closing price\n",
    "classification_df['yesterday_close'] = classification_df['Close'].shift(1)\n",
    "\n",
    "# column that represents the precent change in price since yesterday\n",
    "classification_df['percent_change_in_price'] = (\n",
    "    classification_df['Close']-classification_df['yesterday_close']) / classification_df['yesterday_close']\n",
    "# drop any null values\n",
    "classification_df.dropna(inplace=True)\n",
    "\n",
    "# Our new classification response\n",
    "classification_df['change_close'] = abs(classification_df['percent_change_in_price']) > .01\n",
    "classification_df.head()\n"
   ]
  },
  {
   "cell_type": "code",
   "execution_count": null,
   "metadata": {},
   "outputs": [
    {
     "data": {
      "text/plain": [
       "0.08333333333333333"
      ]
     },
     "execution_count": 184,
     "metadata": {},
     "output_type": "execute_result"
    }
   ],
   "source": [
    "from sklearn.linear_model import LogisticRegression\n",
    "from sklearn.ensemble import RandomForestClassifier\n",
    "\n",
    "# Our accuracy as a result of cross validation random forest\n",
    "rf = RandomForestClassifier()\n",
    "accuracy_cv = cross_val_score(\n",
    "    rf, classification_df[['yesterday_sentiment']],\n",
    "    classification_df['change_close'],\n",
    "    cv=3, scoring='accuracy')\n",
    "accuracy_cv.mean()"
   ]
  },
  {
   "cell_type": "markdown",
   "metadata": {},
   "source": [
    "ufff. no esta nada bien pues tebenos ub 8%. Provemos con LogisticRegression "
   ]
  },
  {
   "cell_type": "code",
   "execution_count": null,
   "metadata": {},
   "outputs": [
    {
     "data": {
      "text/plain": [
       "0.6166666666666667"
      ]
     },
     "execution_count": 187,
     "metadata": {},
     "output_type": "execute_result"
    }
   ],
   "source": [
    "logreg = LogisticRegression()\n",
    "cross_val_score(\n",
    "    logreg, classification_df[['yesterday_sentiment']],\n",
    "    classification_df['change_close'],\n",
    "    cv=3, scoring='accuracy').mean()\n"
   ]
  },
  {
   "cell_type": "code",
   "execution_count": null,
   "metadata": {},
   "outputs": [
    {
     "data": {
      "text/plain": [
       "0.6153846153846154"
      ]
     },
     "execution_count": 189,
     "metadata": {},
     "output_type": "execute_result"
    }
   ],
   "source": [
    "# null model for classification\n",
    "null_accuracy = 1 - classification_df['change_close'].mean()\n",
    "null_accuracy"
   ]
  }
 ],
 "metadata": {
  "kernelspec": {
   "display_name": "Python 3.10.4 64-bit",
   "language": "python",
   "name": "python3"
  },
  "language_info": {
   "codemirror_mode": {
    "name": "ipython",
    "version": 3
   },
   "file_extension": ".py",
   "mimetype": "text/x-python",
   "name": "python",
   "nbconvert_exporter": "python",
   "pygments_lexer": "ipython3",
   "version": "3.10.4"
  },
  "orig_nbformat": 4,
  "vscode": {
   "interpreter": {
    "hash": "37964de45fa06bc99b754cfc54b483ffac9c133df6b16baa187ef33bd89a6318"
   }
  }
 },
 "nbformat": 4,
 "nbformat_minor": 2
}
