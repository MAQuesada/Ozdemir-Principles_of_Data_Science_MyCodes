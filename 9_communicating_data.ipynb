{
 "cells": [
  {
   "cell_type": "markdown",
   "metadata": {},
   "source": [
    "# **Graficos de dispersion (Scatter plots)**\n",
    "Tienen como objetivo principal destacar las relaciones entre dos variables y, si es posible, relevar una correlación. se crean dos ejes cualitativos donde cada punto se representa una simple observscion.\n",
    "\n",
    "Ejemplo: analicemos dos variables: la media de horsa que una persona ve televisor y una escala (0-100) del rendimiento laboral"
   ]
  },
  {
   "cell_type": "code",
   "execution_count": 4,
   "metadata": {},
   "outputs": [
    {
     "data": {
      "text/plain": [
       "<AxesSubplot:xlabel='hours_tv_watched', ylabel='work_performance'>"
      ]
     },
     "execution_count": 4,
     "metadata": {},
     "output_type": "execute_result"
    },
    {
     "data": {
      "image/png": "[encoded data removed]",
      "text/plain": [
       "<Figure size 432x288 with 1 Axes>"
      ]
     },
     "metadata": {
      "needs_background": "light"
     },
     "output_type": "display_data"
    }
   ],
   "source": [
    "import pandas as pd\n",
    "# se refieren a las mismas personas\n",
    "hours_tv_watched = [0, 0, 0, 1, 1.3, 1.4, 2, 2.1, 2.6, 3.2, 4.1, 4.4, 4.4, 5]\n",
    "work_performance = [87, 89, 92, 90, 82, 80, 77, 80, 76, 85, 80, 75, 73, 72]\n",
    "\n",
    "sample = pd.DataFrame({'hours_tv_watched': hours_tv_watched, 'work_performance': work_performance})\n",
    "sample.plot(x='hours_tv_watched', y= 'work_performance', kind='scatter' )\n"
   ]
  },
  {
   "cell_type": "markdown",
   "metadata": {},
   "source": [
    "# **Graficos de Linea (Line graphs)**\n",
    "Utiliza lineas para conectar puntos de datos **de datos cuantitativos** y comunmente el eje x representa el tiempo.\n",
    "Ejemplo: encontrar relacion entre el programa Expedientes X y la cantidad de avistamientos de ovnis en EEUU. y para ellos busco los datos de avistamientos de ovnis y los mostro en un interesante grafico de lineas. \n",
    "\n",
    "![Line Graphs](resources//line%20graphs%20of%20ovnis.png?)\n"
   ]
  },
  {
   "cell_type": "markdown",
   "metadata": {},
   "source": [
    "# **Graficos de barras (Bar charts)**\n",
    "Se usan generalmente para comparar distintos grupos, y por es comun que el eje x sean variables categóricas. Por ejemplo el número de paises por continentes"
   ]
  },
  {
   "cell_type": "code",
   "execution_count": 16,
   "metadata": {},
   "outputs": [
    {
     "data": {
      "text/plain": [
       "Text(0, 0.5, 'Count')"
      ]
     },
     "execution_count": 16,
     "metadata": {},
     "output_type": "execute_result"
    },
    {
     "data": {
      "image/png": "[encoded data removed]",
      "text/plain": [
       "<Figure size 432x288 with 1 Axes>"
      ]
     },
     "metadata": {
      "needs_background": "light"
     },
     "output_type": "display_data"
    }
   ],
   "source": [
    "import numpy as np\n",
    "import matplotlib.pyplot as plt\n",
    "#crear una muestra aleatoria de 200 paises  por continentes (ficticio)\n",
    "countries = np.random.choice(['AL', 'AN', 'EUR', 'ASIA', 'AFR', 'AUS'], 200)\n",
    "\n",
    "sample_countries = pd.DataFrame({'sample_countries': countries})\n",
    "sample_countries.value_counts().plot(kind='bar', title='Countries perContinent')\n",
    "plt.xlabel('Continent')\n",
    "plt.ylabel('Count')\n"
   ]
  },
  {
   "cell_type": "markdown",
   "metadata": {},
   "source": [
    "# **Histograms**\n",
    "Los histogramas muestran la distribucion de frecuencias de una única variable cunatitativa divididindo los datos, **por rangos, en intervalos equidistantes** y trazando el recuento bruto de observaciones en cada intervalo, un histograma es un grafico de barras en que el eje x es un intervalo de valores y el eje y es un recuento. El ejemplo de este grafico esta en el capitulos pasado "
   ]
  },
  {
   "cell_type": "markdown",
   "metadata": {},
   "source": [
    "# **Gráficos de Caja(Box plots)**\n",
    "Se utilizan para mostrar una distribucion de los valores marcando 5 numeros\n",
    "*  El valor mínimo\n",
    "*  El primer cuartil que  separa el 25% de los valores mas bajos \n",
    "*  La mediana(*linea roja*)\n",
    "*  El tercer cuartil que separa el 25% de los valores mas altos\n",
    "*  El valor máximo\n",
    "Por esto tienen la ventaja de mostrar mejor los datos atipicos \n",
    "\n",
    "**Los numeros exactos para contruir un grafico de caja se encuentran en el método** ```describe()```\n",
    "Un ejemplo\n",
    "```python\n",
    "first_rossmann_sales = pd.DataFrame(...)\n",
    "first_rossmann_sales.boxplot(column='Customers', vert=False)\n",
    "```\n",
    "![boxplot](resources//output_box_ptots.png)"
   ]
  }
 ],
 "metadata": {
  "kernelspec": {
   "display_name": "Python 3.10.4 64-bit",
   "language": "python",
   "name": "python3"
  },
  "language_info": {
   "codemirror_mode": {
    "name": "ipython",
    "version": 3
   },
   "file_extension": ".py",
   "mimetype": "text/x-python",
   "name": "python",
   "nbconvert_exporter": "python",
   "pygments_lexer": "ipython3",
   "version": "3.10.4"
  },
  "orig_nbformat": 4,
  "vscode": {
   "interpreter": {
    "hash": "37964de45fa06bc99b754cfc54b483ffac9c133df6b16baa187ef33bd89a6318"
   }
  }
 },
 "nbformat": 4,
 "nbformat_minor": 2
}
