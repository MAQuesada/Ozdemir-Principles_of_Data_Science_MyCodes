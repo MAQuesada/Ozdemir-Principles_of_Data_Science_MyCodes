{
 "cells": [
  {
   "cell_type": "markdown",
   "metadata": {},
   "source": [
    "# **Ensembling techniques**"
   ]
  },
  {
   "cell_type": "code",
   "execution_count": 1,
   "metadata": {},
   "outputs": [
    {
     "name": "stdout",
     "output_type": "stream",
     "text": [
      "0.699 0.698 0.71 0.699 0.685\n"
     ]
    }
   ],
   "source": [
    "import numpy as np\n",
    "\n",
    "# set a seed for reproducibility\n",
    "np.random.seed(12345)\n",
    "\n",
    "# generate 1000 random numbers (between 0 and 1) for each model, representing 1000 observations\n",
    "mod1 = np.random.rand(1000)\n",
    "mod2 = np.random.rand(1000)\n",
    "mod3 = np.random.rand(1000)\n",
    "mod4 = np.random.rand(1000)\n",
    "mod5 = np.random.rand(1000)\n",
    "\n",
    "# each model independently predicts 1 (the \"correct response\") if random number was at least 0.3\n",
    "preds1 = np.where(mod1 > 0.3, 1, 0)\n",
    "preds2 = np.where(mod2 > 0.3, 1, 0)\n",
    "preds3 = np.where(mod3 > 0.3, 1, 0)\n",
    "preds4 = np.where(mod4 > 0.3, 1, 0)\n",
    "preds5 = np.where(mod5 > 0.3, 1, 0)\n",
    "\n",
    "print(preds1.mean(),preds2.mean(),preds3.mean(),preds4.mean(),preds5.mean())"
   ]
  },
  {
   "cell_type": "markdown",
   "metadata": {},
   "source": [
    "Aproximadamente cada modelos tiene unba precision de un 70% aproximadamente por si solo. Veamos ahora esamblandolos promediando las prediciones y luego redondear a 0 o 1"
   ]
  },
  {
   "cell_type": "code",
   "execution_count": 2,
   "metadata": {},
   "outputs": [
    {
     "name": "stdout",
     "output_type": "stream",
     "text": [
      "0.83\n"
     ]
    }
   ],
   "source": [
    "ensable_pred = ((preds1 + preds2+preds3+preds4+preds5)/5)>=0.5\n",
    "print(ensable_pred.mean())\n"
   ]
  },
  {
   "cell_type": "markdown",
   "metadata": {},
   "source": [
    "A  medida que se añaden más modelos correctos a un proceso de votacion la probabilidad de error decrese y se conoce como **Condorcet's jury theorem (Teorema del jurado de Condorcet)**"
   ]
  },
  {
   "cell_type": "markdown",
   "metadata": {},
   "source": [
    "# **Random Forest (example of Ensambling)**\n",
    "\n",
    "> Intentemos predecir los salarios de los jugarores de la MLB basandodes en estadísticas del jugador"
   ]
  },
  {
   "cell_type": "code",
   "execution_count": 3,
   "metadata": {},
   "outputs": [
    {
     "data": {
      "text/html": [
       "<div>\n",
       "<style scoped>\n",
       "    .dataframe tbody tr th:only-of-type {\n",
       "        vertical-align: middle;\n",
       "    }\n",
       "\n",
       "    .dataframe tbody tr th {\n",
       "        vertical-align: top;\n",
       "    }\n",
       "\n",
       "    .dataframe thead th {\n",
       "        text-align: right;\n",
       "    }\n",
       "</style>\n",
       "<table border=\"1\" class=\"dataframe\">\n",
       "  <thead>\n",
       "    <tr style=\"text-align: right;\">\n",
       "      <th></th>\n",
       "      <th>AtBat</th>\n",
       "      <th>Hits</th>\n",
       "      <th>HmRun</th>\n",
       "      <th>Runs</th>\n",
       "      <th>RBI</th>\n",
       "      <th>Walks</th>\n",
       "      <th>Years</th>\n",
       "      <th>League</th>\n",
       "      <th>Division</th>\n",
       "      <th>PutOuts</th>\n",
       "      <th>Assists</th>\n",
       "      <th>Errors</th>\n",
       "      <th>NewLeague</th>\n",
       "    </tr>\n",
       "  </thead>\n",
       "  <tbody>\n",
       "    <tr>\n",
       "      <th>1</th>\n",
       "      <td>315</td>\n",
       "      <td>81</td>\n",
       "      <td>7</td>\n",
       "      <td>24</td>\n",
       "      <td>38</td>\n",
       "      <td>39</td>\n",
       "      <td>14</td>\n",
       "      <td>0</td>\n",
       "      <td>0</td>\n",
       "      <td>632</td>\n",
       "      <td>43</td>\n",
       "      <td>10</td>\n",
       "      <td>0</td>\n",
       "    </tr>\n",
       "    <tr>\n",
       "      <th>2</th>\n",
       "      <td>479</td>\n",
       "      <td>130</td>\n",
       "      <td>18</td>\n",
       "      <td>66</td>\n",
       "      <td>72</td>\n",
       "      <td>76</td>\n",
       "      <td>3</td>\n",
       "      <td>1</td>\n",
       "      <td>0</td>\n",
       "      <td>880</td>\n",
       "      <td>82</td>\n",
       "      <td>14</td>\n",
       "      <td>1</td>\n",
       "    </tr>\n",
       "    <tr>\n",
       "      <th>3</th>\n",
       "      <td>496</td>\n",
       "      <td>141</td>\n",
       "      <td>20</td>\n",
       "      <td>65</td>\n",
       "      <td>78</td>\n",
       "      <td>37</td>\n",
       "      <td>11</td>\n",
       "      <td>0</td>\n",
       "      <td>1</td>\n",
       "      <td>200</td>\n",
       "      <td>11</td>\n",
       "      <td>3</td>\n",
       "      <td>0</td>\n",
       "    </tr>\n",
       "  </tbody>\n",
       "</table>\n",
       "</div>"
      ],
      "text/plain": [
       "   AtBat  Hits  HmRun  Runs  RBI  Walks  Years  League  Division  PutOuts  \\\n",
       "1    315    81      7    24   38     39     14       0         0      632   \n",
       "2    479   130     18    66   72     76      3       1         0      880   \n",
       "3    496   141     20    65   78     37     11       0         1      200   \n",
       "\n",
       "   Assists  Errors  NewLeague  \n",
       "1       43      10          0  \n",
       "2       82      14          1  \n",
       "3       11       3          0  "
      ]
     },
     "execution_count": 3,
     "metadata": {},
     "output_type": "execute_result"
    }
   ],
   "source": [
    "import pandas as pd\n",
    "\n",
    "# read in the data\n",
    "hitters = pd.read_csv('./resources/hitters.csv')\n",
    "\n",
    "# remove rows with missing values\n",
    "hitters.dropna(inplace=True)\n",
    "\n",
    "# encode categorical variables as integers\n",
    "hitters['League'] = pd.factorize(hitters.League)[0]\n",
    "hitters['Division'] = pd.factorize(hitters.Division)[0]\n",
    "hitters['NewLeague'] = pd.factorize(hitters.NewLeague)[0]\n",
    "\n",
    "# # define features: exclude career statistics (which start with \"C\") and the response (Salary)\n",
    "feature_cols = [h for h in hitters.columns if h[0] != 'C' and h != 'Salary']\n",
    "\n",
    "# define X and y\n",
    "X = hitters[feature_cols]\n",
    "y = hitters.Salary\n",
    "\n",
    "X.head(3)"
   ]
  },
  {
   "cell_type": "code",
   "execution_count": 4,
   "metadata": {},
   "outputs": [
    {
     "data": {
      "text/plain": [
       "[<matplotlib.lines.Line2D at 0x27e223da650>]"
      ]
     },
     "execution_count": 4,
     "metadata": {},
     "output_type": "execute_result"
    },
    {
     "data": {
      "image/png": "[encoded data removed]",
      "text/plain": [
       "<Figure size 432x288 with 1 Axes>"
      ]
     },
     "metadata": {
      "needs_background": "light"
     },
     "output_type": "display_data"
    }
   ],
   "source": [
    "''' Let's try andpredict the salary first using a single decision tree'''\n",
    "\n",
    "from sklearn.tree import DecisionTreeRegressor\n",
    "from sklearn.model_selection import cross_val_score\n",
    "import matplotlib.pyplot as plt\n",
    "\n",
    "# list of values to try for max_depth\n",
    "max_depth_range = range(1, 21)\n",
    "\n",
    "# list to store the average RMSE for each value of max_depth\n",
    "mean_scores = []\n",
    "\n",
    "# use 10-fold cross-validation with each value of max_depth\n",
    "for depth in max_depth_range:\n",
    "    treereg = DecisionTreeRegressor(max_depth=depth, random_state=1)\n",
    "    RMSE_scores = cross_val_score(treereg, X, y, cv=10, scoring='neg_root_mean_squared_error')\n",
    "    mean_scores.append(np.mean((-RMSE_scores)))\n",
    "\n",
    "# plot max_depth (x-axis) versus RMSE (y-axis)\n",
    "plt.plot(max_depth_range, mean_scores)\n",
    "plt.xlabel('max_depth')\n",
    "plt.ylabel('RMSE (lower is better)')\n",
    "\n",
    "plt.plot(max_depth_range.__getitem__(mean_scores.index(np.min(mean_scores))), np.min(\n",
    "    mean_scores), 'ro', markerfacecolor='None', markeredgecolor='r', markersize=15, markeredgewidth=1.5)\n"
   ]
  },
  {
   "cell_type": "code",
   "execution_count": 5,
   "metadata": {},
   "outputs": [
    {
     "data": {
      "text/plain": [
       "[<matplotlib.lines.Line2D at 0x27e2456fc40>]"
      ]
     },
     "execution_count": 5,
     "metadata": {},
     "output_type": "execute_result"
    },
    {
     "data": {
      "image/png": "[encoded data removed]",
      "text/plain": [
       "<Figure size 432x288 with 1 Axes>"
      ]
     },
     "metadata": {
      "needs_background": "light"
     },
     "output_type": "display_data"
    }
   ],
   "source": [
    "'''Let's do the same thing, but this time with a Random forest'''\n",
    "\n",
    "from sklearn.ensemble import RandomForestRegressor\n",
    "\n",
    "# list of values to try for n_estimators (numero de arboles en el bosque)\n",
    "estimator_range = range(10, 310, 10)\n",
    "\n",
    "# list to store the average RMSE for each value of n_estimators\n",
    "mean_scores = []\n",
    "# use 5-fold cross-validation with each value of n_estimators\n",
    "for estimator in estimator_range:\n",
    "\n",
    "    rfreg = RandomForestRegressor(n_estimators=estimator, random_state=1)\n",
    "    RMSE_scores = cross_val_score(rfreg, X, y, cv=5, scoring='neg_root_mean_squared_error')\n",
    "    mean_scores.append(np.mean(-RMSE_scores))\n",
    "\n",
    "plt.plot(estimator_range, mean_scores)\n",
    "plt.xlabel('n_estimators')\n",
    "plt.ylabel('RMSE (lower is better)')\n",
    "\n",
    "plt.plot(estimator_range.__getitem__(mean_scores.index(np.min(mean_scores))), np.min(\n",
    "    mean_scores), 'ro', markerfacecolor='None', markeredgecolor='r', markersize=15, markeredgewidth=1.5)\n"
   ]
  },
  {
   "cell_type": "markdown",
   "metadata": {},
   "source": [
    "Como podemos ver nuestro eje y ahora e smucho mas bajo y por lo tanto nuestro RMSE. Lo que evidencia como podemos obtener un importante aumento del poder predictivo usandp **random Forest** \n",
    "\n",
    "Como ya sabemos **las características siempre se permutan aleatoriamente en cada división**. Por lo tanto, la división mejor encontrada puede variar, incluso con los mismos datos de entrenamiento,si  max_features=n_features y bootstrap=Falses la mejora del criterio es idéntica para varias divisiones enumeradas durante la búsqueda de la mejor división."
   ]
  },
  {
   "cell_type": "code",
   "execution_count": 6,
   "metadata": {},
   "outputs": [
    {
     "name": "stdout",
     "output_type": "stream",
     "text": [
      "[537.12179231 556.0967     599.7628     110.88076923 740.54945385]\n"
     ]
    },
    {
     "data": {
      "text/html": [
       "<div>\n",
       "<style scoped>\n",
       "    .dataframe tbody tr th:only-of-type {\n",
       "        vertical-align: middle;\n",
       "    }\n",
       "\n",
       "    .dataframe tbody tr th {\n",
       "        vertical-align: top;\n",
       "    }\n",
       "\n",
       "    .dataframe thead th {\n",
       "        text-align: right;\n",
       "    }\n",
       "</style>\n",
       "<table border=\"1\" class=\"dataframe\">\n",
       "  <thead>\n",
       "    <tr style=\"text-align: right;\">\n",
       "      <th></th>\n",
       "      <th>feature</th>\n",
       "      <th>importance</th>\n",
       "    </tr>\n",
       "  </thead>\n",
       "  <tbody>\n",
       "    <tr>\n",
       "      <th>6</th>\n",
       "      <td>Years</td>\n",
       "      <td>0.262278</td>\n",
       "    </tr>\n",
       "    <tr>\n",
       "      <th>5</th>\n",
       "      <td>Walks</td>\n",
       "      <td>0.150753</td>\n",
       "    </tr>\n",
       "    <tr>\n",
       "      <th>4</th>\n",
       "      <td>RBI</td>\n",
       "      <td>0.136988</td>\n",
       "    </tr>\n",
       "    <tr>\n",
       "      <th>1</th>\n",
       "      <td>Hits</td>\n",
       "      <td>0.133977</td>\n",
       "    </tr>\n",
       "    <tr>\n",
       "      <th>0</th>\n",
       "      <td>AtBat</td>\n",
       "      <td>0.094543</td>\n",
       "    </tr>\n",
       "    <tr>\n",
       "      <th>9</th>\n",
       "      <td>PutOuts</td>\n",
       "      <td>0.061853</td>\n",
       "    </tr>\n",
       "    <tr>\n",
       "      <th>3</th>\n",
       "      <td>Runs</td>\n",
       "      <td>0.056775</td>\n",
       "    </tr>\n",
       "    <tr>\n",
       "      <th>2</th>\n",
       "      <td>HmRun</td>\n",
       "      <td>0.039288</td>\n",
       "    </tr>\n",
       "    <tr>\n",
       "      <th>11</th>\n",
       "      <td>Errors</td>\n",
       "      <td>0.025531</td>\n",
       "    </tr>\n",
       "    <tr>\n",
       "      <th>10</th>\n",
       "      <td>Assists</td>\n",
       "      <td>0.023695</td>\n",
       "    </tr>\n",
       "    <tr>\n",
       "      <th>8</th>\n",
       "      <td>Division</td>\n",
       "      <td>0.006757</td>\n",
       "    </tr>\n",
       "    <tr>\n",
       "      <th>12</th>\n",
       "      <td>NewLeague</td>\n",
       "      <td>0.004476</td>\n",
       "    </tr>\n",
       "    <tr>\n",
       "      <th>7</th>\n",
       "      <td>League</td>\n",
       "      <td>0.003085</td>\n",
       "    </tr>\n",
       "  </tbody>\n",
       "</table>\n",
       "</div>"
      ],
      "text/plain": [
       "      feature  importance\n",
       "6       Years    0.262278\n",
       "5       Walks    0.150753\n",
       "4         RBI    0.136988\n",
       "1        Hits    0.133977\n",
       "0       AtBat    0.094543\n",
       "9     PutOuts    0.061853\n",
       "3        Runs    0.056775\n",
       "2       HmRun    0.039288\n",
       "11     Errors    0.025531\n",
       "10    Assists    0.023695\n",
       "8    Division    0.006757\n",
       "12  NewLeague    0.004476\n",
       "7      League    0.003085"
      ]
     },
     "execution_count": 6,
     "metadata": {},
     "output_type": "execute_result"
    }
   ],
   "source": [
    "'''Caracteriristicas importantes'''\n",
    "\n",
    "# n_estimators=150 is sufficiently good\n",
    "from weakref import ref\n",
    "\n",
    "\n",
    "rfreg = RandomForestRegressor(n_estimators=130, random_state=1)\n",
    "rfreg.fit(X, y)\n",
    "print(rfreg.predict(X.head()))\n",
    "# compute feature importances\n",
    "pd.DataFrame(\n",
    "    {'feature': feature_cols, 'importance': rfreg.feature_importances_}).sort_values(\n",
    "    'importance', ascending=False)\n"
   ]
  },
  {
   "cell_type": "markdown",
   "metadata": {},
   "source": [
    "# **Neutral Networks**"
   ]
  },
  {
   "cell_type": "code",
   "execution_count": 53,
   "metadata": {},
   "outputs": [
    {
     "data": {
      "text/plain": [
       "(1797, 8, 8)"
      ]
     },
     "execution_count": 53,
     "metadata": {},
     "output_type": "execute_result"
    },
    {
     "data": {
      "image/png": "[encoded data removed]",
      "text/plain": [
       "<Figure size 432x288 with 1 Axes>"
      ]
     },
     "metadata": {
      "needs_background": "light"
     },
     "output_type": "display_data"
    }
   ],
   "source": [
    "'''Conjunto de datos de digitos escritos a mano'''\n",
    "\n",
    "from sklearn.model_selection import cross_val_score\n",
    "from sklearn import datasets\n",
    "import matplotlib.pyplot as plt\n",
    "%matplotlib inline\n",
    "\n",
    "digits = datasets.load_digits()\n",
    "# a 4 digi\n",
    "plt.imshow(digits.images[100], cmap=plt.cm.gray_r, interpolation='nearest')\n",
    "digits.images.shape"
   ]
  },
  {
   "cell_type": "code",
   "execution_count": 8,
   "metadata": {},
   "outputs": [
    {
     "data": {
      "image/png": "[encoded data removed]",
      "text/plain": [
       "<Figure size 1296x504 with 20 Axes>"
      ]
     },
     "metadata": {
      "needs_background": "light"
     },
     "output_type": "display_data"
    }
   ],
   "source": [
    "'''moestrar una muestra de las imagenes'''\n",
    "import matplotlib.pyplot as plt\n",
    "\n",
    "rows = 2\n",
    "cols = 10\n",
    "axes=[]\n",
    "fig=plt.figure(figsize=(18,7))\n",
    "\n",
    "for i in range(rows*cols):\n",
    "    axes.append( fig.add_subplot(rows, cols, i+1) )\n",
    "    axes[i].set_title(\"Subplot\"+str(i))\n",
    "    plt.imshow(digits.images[i], cmap=plt.cm.gray_r, interpolation='nearest')\n",
    "\n",
    "fig.tight_layout()    \n",
    "plt.show()"
   ]
  },
  {
   "cell_type": "code",
   "execution_count": 9,
   "metadata": {},
   "outputs": [
    {
     "data": {
      "text/plain": [
       "0.938243577839678"
      ]
     },
     "execution_count": 9,
     "metadata": {},
     "output_type": "execute_result"
    }
   ],
   "source": [
    "'''Usaremos primero Random Forest para realizar la prediccion'''\n",
    "\n",
    "from sklearn.ensemble import RandomForestClassifier\n",
    "\n",
    "X, y = digits.data, digits.target  # 64 pixels per image\n",
    "\n",
    "\n",
    "# Try Random Forest\n",
    "rfclf = RandomForestClassifier(n_estimators=100, random_state=1)\n",
    "cross_val_score(rfclf, X, y, cv=5, scoring='accuracy').mean()\n",
    "\n",
    "# example of prediction:\n",
    "# rfclf.fit(X[10:], y[10:])\n",
    "# print(rfclf.score(X[:10],y[:10]))\n",
    "# rfclf.predict(X[:10])\n"
   ]
  },
  {
   "cell_type": "markdown",
   "metadata": {},
   "source": [
    "Una poder predictivo de casi un 94% no esta nda mal, veamos si podemos mejorarlo con **Neutral Networks** siguiendo estos pasos:\n",
    "\n",
    "Importing required PyBrain and other packages\n",
    "Create ClassificationDataSet\n",
    "Splitting the datasets 25% as testdata and 75% as trained data\n",
    "Converting Testdata and Trained data back as ClassificationDataSet\n",
    "Creating a Neural Network\n",
    "Training the Network\n",
    "Visualizing the error and validation data\n",
    "Percentage for test data Error"
   ]
  },
  {
   "cell_type": "code",
   "execution_count": 28,
   "metadata": {},
   "outputs": [
    {
     "name": "stdout",
     "output_type": "stream",
     "text": [
      "una muestra de las var_respuesta despues de codificadas: \n",
      " [[0 0 0 0 0 0 0 0 1 0]\n",
      " [0 0 0 1 0 0 0 0 0 0]\n",
      " [0 0 0 0 1 0 0 0 0 0]\n",
      " [0 0 0 1 0 0 0 0 0 0]\n",
      " [0 0 0 0 0 0 1 0 0 0]]\n",
      "64\n",
      "10\n"
     ]
    }
   ],
   "source": [
    "'''preparar los datos para la red neuronal'''\n",
    "from pybrain.datasets import ClassificationDataSet\n",
    "from numpy import ravel  # Devuelve una matriz aplanada contigua.\n",
    "\n",
    "# Paso 2. El siguiente paso es crear ClassificationDataSet.\n",
    "\n",
    "# pybrain tiene su propia clase de datos de muestra a la que debemos añadir nuestros datos\n",
    "# de entrenamiento y prueba\n",
    "\n",
    "ds = ClassificationDataSet(64, 1, nb_classes=10)\n",
    "for k in range(len(X)):\n",
    "    ds.appendLinked(ravel(X[k]), y[k])\n",
    "\n",
    "\n",
    "# Paso 3. their equivalent of train test split\n",
    "\n",
    "test_data_temp, training_data_temp = ds.splitWithProportion(0.25)\n",
    "\n",
    "# Paso 4. convertir los datos de prueba y de entrenamiento en ClassificationDataSet\n",
    "\n",
    "test_data = ClassificationDataSet(64, 1, nb_classes=10)\n",
    "for n in range(0, test_data_temp.getLength()):\n",
    "    test_data.addSample(test_data_temp.getSample(n)[0], test_data_temp.getSample(n)[1])\n",
    "\n",
    "training_data = ClassificationDataSet(64, 1, nb_classes=10)\n",
    "for n in range(0, training_data_temp.getLength()):\n",
    "    training_data.addSample(training_data_temp.getSample(n)[0], training_data_temp.getSample(n)[1])\n",
    "\n",
    "# pybrain's version of dummy variables: Al realizar la clasificación, muchos algoritmos\n",
    "# funcionan mejor si las clases se codifican en una unidad de salida por clase\n",
    "test_data._convertToOneOfMany()\n",
    "training_data._convertToOneOfMany()\n",
    "\n",
    "\n",
    "print('una muestra de las var_respuesta despues de codificadas: \\n',\n",
    "      test_data.getField('target')[:5])\n",
    "\n",
    "print(test_data.indim)  # number of pixels going in 64\n",
    "print(test_data.outdim)  # number of possible options (10 digits)\n"
   ]
  },
  {
   "cell_type": "code",
   "execution_count": 61,
   "metadata": {},
   "outputs": [
    {
     "name": "stdout",
     "output_type": "stream",
     "text": [
      "Total error:  0.0495151296269\n",
      "Total error:  0.0295440154843\n",
      "Total error:  0.0206550649974\n",
      "Total error:  0.0157898702665\n",
      "Total error:  0.0122603470116\n",
      "Total error:  0.0105269798227\n",
      "Total error:  0.00859461634632\n",
      "Total error:  0.00734094590488\n",
      "Total error:  0.00648199875364\n",
      "Total error:  0.00555456496397\n",
      "Total error:  0.00480646724007\n",
      "('train-errors:', '[0.049515 , 0.029544 , 0.020655 , 0.01579  , 0.01226  , 0.010527 , 0.008595 , 0.007341 , 0.006482 , 0.005555 , 0.004806 ]')\n",
      "('valid-errors:', '[0.074359 , 0.037831 , 0.025221 , 0.018949 , 0.014463 , 0.013925 , 0.01207  , 0.010479 , 0.009953 , 0.008689 , 0.007142 , 0.007098 ]')\n"
     ]
    },
    {
     "data": {
      "image/png": "[encoded data removed]",
      "text/plain": [
       "<Figure size 432x288 with 1 Axes>"
      ]
     },
     "metadata": {
      "needs_background": "light"
     },
     "output_type": "display_data"
    }
   ],
   "source": [
    "from pybrain.utilities import percentError\n",
    "from pybrain.tools.shortcuts import buildNetwork\n",
    "from pybrain.supervised.trainers import BackpropTrainer\n",
    "from pybrain.structure.modules import SoftmaxLayer\n",
    "\n",
    "# Paso 5. Create a Neural Network.\n",
    "\n",
    "# Create the network of 64 inputs(uno por cada caracteristica),\n",
    "# 64 Layers-capas hidden and 10 output(una por cada prediccion).\n",
    "fnn = buildNetwork(training_data.indim, 64, training_data.outdim, outclass=SoftmaxLayer)\n",
    "\n",
    "# Paso 6. Entrenando la Red\n",
    "\n",
    "trainer = BackpropTrainer(fnn, dataset=training_data, momentum=0.1,\n",
    "                          learningrate=0.01, verbose=True, weightdecay=0.01)\n",
    "\n",
    "# Step 7  The next step is visualizing the error and validation of the data.\n",
    "\n",
    "# se entrena como máximo maxEpochs cantidad de épocas\n",
    "trnerr, valerr = trainer.trainUntilConvergence(dataset=training_data, maxEpochs=10)\n",
    "\n",
    "fig, ax = plt.subplots()\n",
    "ax.plot(trnerr, 'b', valerr, 'r')\n",
    "ax.plot(valerr,  lw=2, label='validation error')\n",
    "ax.plot(trnerr,  lw=2, label='training error')\n",
    "ax.legend(loc='upper right')\n",
    "plt.grid()\n"
   ]
  },
  {
   "cell_type": "markdown",
   "metadata": {},
   "source": [
    "El error comienza en 0.04 y luego disminuye para cada época, lo que significa que la red se está entrenando y mejora para cada época."
   ]
  },
  {
   "cell_type": "code",
   "execution_count": 59,
   "metadata": {},
   "outputs": [
    {
     "name": "stdout",
     "output_type": "stream",
     "text": [
      "Total error:  0.00211275914217\n",
      "Total error:  0.00211515814725\n",
      "Total error:  0.00232309614627\n",
      "Total error:  0.00214791898058\n",
      "Total error:  0.00216841548728\n",
      "Total error:  0.00212797250637\n",
      "Total error:  0.0021502055373\n",
      "Total error:  0.00197460492244\n",
      "Total error:  0.00207040891784\n",
      "Total error:  0.00227533611033\n",
      "Percent Error on Test dataset:  2.89532293986637\n",
      "accuracy 97.10467706013362\n"
     ]
    }
   ],
   "source": [
    "# Paso 8. Porcentaje de error de datos de prueba\n",
    "\n",
    "# metodo para entrenar el BackpropTrainer en este caso con 10 iteraciones\n",
    "trainer.trainEpochs(10)  # 10 batches o lotes\n",
    "\n",
    "# el campo adicional \"class\", que es una copia de seguridad automática de las respuestas\n",
    "err = percentError(trainer.testOnClassData(dataset=test_data), test_data['class'])\n",
    "print('Percent Error on Test dataset: ', err)\n",
    "print('accuracy', 100 - err)\n"
   ]
  },
  {
   "cell_type": "markdown",
   "metadata": {},
   "source": [
    "Como podemos ver los errores ya comienzan en 0.002 pq la red fue entrenada ya con el metodo **trainUntilConvergence** "
   ]
  },
  {
   "cell_type": "code",
   "execution_count": 62,
   "metadata": {},
   "outputs": [
    {
     "name": "stdout",
     "output_type": "stream",
     "text": [
      "matiz de probabilidad para cada clasificacion\n"
     ]
    },
    {
     "data": {
      "text/plain": [
       "array([9.31680899e-01, 6.88980137e-04, 4.17230561e-03, 4.58522773e-03,\n",
       "       2.61690533e-03, 8.86429201e-03, 9.69266067e-03, 5.19172635e-03,\n",
       "       6.08632315e-03, 2.64206800e-02])"
      ]
     },
     "execution_count": 62,
     "metadata": {},
     "output_type": "execute_result"
    },
    {
     "data": {
      "image/png": "[encoded data removed]",
      "text/plain": [
       "<Figure size 432x288 with 1 Axes>"
      ]
     },
     "metadata": {
      "needs_background": "light"
     },
     "output_type": "display_data"
    }
   ],
   "source": [
    "'''To predict the shape, we can use the following code'''\n",
    "plt.imshow(digits.images[0], cmap=plt.cm.gray_r,interpolation='nearest')\n",
    "print('matiz de probabilidad para cada clasificacion')\n",
    "fnn.activate(X[0])"
   ]
  },
  {
   "cell_type": "markdown",
   "metadata": {},
   "source": [
    "Y como vemos la mayor probabilidad la tiene el 0 con 93% y luego le sigue el 9 con un 2%. Si volvemos a ejecutar el mismo codigo de crear y entrenar el modelo obtendremosm una red diferente a la anteriorcon un % alto pero diferente de precisión. Y esto es sintomas de **varianza alta** y es por eso que requieren muchas muestras de entrenamiento para combatir esta alta varianza."
   ]
  }
 ],
 "metadata": {
  "kernelspec": {
   "display_name": "Python 3.10.4 64-bit",
   "language": "python",
   "name": "python3"
  },
  "language_info": {
   "codemirror_mode": {
    "name": "ipython",
    "version": 3
   },
   "file_extension": ".py",
   "mimetype": "text/x-python",
   "name": "python",
   "nbconvert_exporter": "python",
   "pygments_lexer": "ipython3",
   "version": "3.10.4"
  },
  "orig_nbformat": 4,
  "vscode": {
   "interpreter": {
    "hash": "37964de45fa06bc99b754cfc54b483ffac9c133df6b16baa187ef33bd89a6318"
   }
  }
 },
 "nbformat": 4,
 "nbformat_minor": 2
}
