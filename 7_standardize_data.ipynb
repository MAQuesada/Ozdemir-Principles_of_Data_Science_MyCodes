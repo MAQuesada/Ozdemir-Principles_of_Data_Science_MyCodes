{
 "cells": [
  {
   "cell_type": "markdown",
   "metadata": {},
   "source": [
    "# **La puntuacion Z:**\n",
    "es la forma mas facil de estandarizar los datos, lo que permite comparar datos de diferentes escalas\n",
    "En este ejemplo mediremos con el grado de felicidad de las personas(que esta entre 0 y 1) y de la cantidad de amigos que tienen en su cuenta de facebook en una muestra de 24 personas y se standarizara con el metodo preprocessing.scale del modulo sklearn"
   ]
  },
  {
   "cell_type": "code",
   "execution_count": 1,
   "metadata": {},
   "outputs": [
    {
     "data": {
      "text/html": [
       "<div>\n",
       "<style scoped>\n",
       "    .dataframe tbody tr th:only-of-type {\n",
       "        vertical-align: middle;\n",
       "    }\n",
       "\n",
       "    .dataframe tbody tr th {\n",
       "        vertical-align: top;\n",
       "    }\n",
       "\n",
       "    .dataframe thead th {\n",
       "        text-align: right;\n",
       "    }\n",
       "</style>\n",
       "<table border=\"1\" class=\"dataframe\">\n",
       "  <thead>\n",
       "    <tr style=\"text-align: right;\">\n",
       "      <th></th>\n",
       "      <th>friends</th>\n",
       "      <th>happiness</th>\n",
       "    </tr>\n",
       "  </thead>\n",
       "  <tbody>\n",
       "    <tr>\n",
       "      <th>0</th>\n",
       "      <td>109</td>\n",
       "      <td>0.8</td>\n",
       "    </tr>\n",
       "    <tr>\n",
       "      <th>1</th>\n",
       "      <td>1017</td>\n",
       "      <td>0.6</td>\n",
       "    </tr>\n",
       "    <tr>\n",
       "      <th>2</th>\n",
       "      <td>1127</td>\n",
       "      <td>0.3</td>\n",
       "    </tr>\n",
       "    <tr>\n",
       "      <th>3</th>\n",
       "      <td>418</td>\n",
       "      <td>0.6</td>\n",
       "    </tr>\n",
       "    <tr>\n",
       "      <th>4</th>\n",
       "      <td>625</td>\n",
       "      <td>0.6</td>\n",
       "    </tr>\n",
       "  </tbody>\n",
       "</table>\n",
       "</div>"
      ],
      "text/plain": [
       "   friends  happiness\n",
       "0      109        0.8\n",
       "1     1017        0.6\n",
       "2     1127        0.3\n",
       "3      418        0.6\n",
       "4      625        0.6"
      ]
     },
     "execution_count": 1,
     "metadata": {},
     "output_type": "execute_result"
    }
   ],
   "source": [
    "import pandas as pd\n",
    "\n",
    "friends = [109, 1017, 1127, 418, 625, 957, 89, 950, 946, 797, 981, 125,\n",
    "           455, 731, 1640, 485, 1309, 472, 1132, 1773, 906, 531, 742, 621]\n",
    "happiness = [.8, .6, .3, .6, .6, .4, .8, .5, .4, .3, .3, .6, .2, .8,\n",
    "             1, .6, .2, .7, .5, .3, .1, 0, .3, 1]\n",
    "\n",
    "df = pd.DataFrame({'friends': friends, 'happiness': happiness})\n",
    "df.head()\n"
   ]
  },
  {
   "cell_type": "code",
   "execution_count": 2,
   "metadata": {},
   "outputs": [
    {
     "data": {
      "text/html": [
       "<div>\n",
       "<style scoped>\n",
       "    .dataframe tbody tr th:only-of-type {\n",
       "        vertical-align: middle;\n",
       "    }\n",
       "\n",
       "    .dataframe tbody tr th {\n",
       "        vertical-align: top;\n",
       "    }\n",
       "\n",
       "    .dataframe thead th {\n",
       "        text-align: right;\n",
       "    }\n",
       "</style>\n",
       "<table border=\"1\" class=\"dataframe\">\n",
       "  <thead>\n",
       "    <tr style=\"text-align: right;\">\n",
       "      <th></th>\n",
       "      <th>friends_scaled</th>\n",
       "      <th>happiness_scaled</th>\n",
       "    </tr>\n",
       "  </thead>\n",
       "  <tbody>\n",
       "    <tr>\n",
       "      <th>0</th>\n",
       "      <td>-1.599495</td>\n",
       "      <td>1.153223</td>\n",
       "    </tr>\n",
       "    <tr>\n",
       "      <th>1</th>\n",
       "      <td>0.536040</td>\n",
       "      <td>0.394939</td>\n",
       "    </tr>\n",
       "    <tr>\n",
       "      <th>2</th>\n",
       "      <td>0.794750</td>\n",
       "      <td>-0.742486</td>\n",
       "    </tr>\n",
       "    <tr>\n",
       "      <th>3</th>\n",
       "      <td>-0.872755</td>\n",
       "      <td>0.394939</td>\n",
       "    </tr>\n",
       "    <tr>\n",
       "      <th>4</th>\n",
       "      <td>-0.385909</td>\n",
       "      <td>0.394939</td>\n",
       "    </tr>\n",
       "  </tbody>\n",
       "</table>\n",
       "</div>"
      ],
      "text/plain": [
       "   friends_scaled  happiness_scaled\n",
       "0       -1.599495          1.153223\n",
       "1        0.536040          0.394939\n",
       "2        0.794750         -0.742486\n",
       "3       -0.872755          0.394939\n",
       "4       -0.385909          0.394939"
      ]
     },
     "execution_count": 2,
     "metadata": {},
     "output_type": "execute_result"
    }
   ],
   "source": [
    "from sklearn import preprocessing\n",
    "\n",
    "df_scaled = pd.DataFrame(preprocessing.scale(df), columns=['friends_scaled', 'happiness_scaled'])\n",
    "df_scaled.head()\n"
   ]
  },
  {
   "cell_type": "code",
   "execution_count": 3,
   "metadata": {},
   "outputs": [
    {
     "data": {
      "text/plain": [
       "<AxesSubplot:xlabel='friends_scaled', ylabel='happiness_scaled'>"
      ]
     },
     "execution_count": 3,
     "metadata": {},
     "output_type": "execute_result"
    },
    {
     "data": {
      "image/png": "[encoded data removed]",
      "text/plain": [
       "<Figure size 432x288 with 1 Axes>"
      ]
     },
     "metadata": {
      "needs_background": "light"
     },
     "output_type": "display_data"
    }
   ],
   "source": [
    "df_scaled.plot(kind='scatter', x='friends_scaled', y='happiness_scaled')\n"
   ]
  },
  {
   "cell_type": "code",
   "execution_count": 4,
   "metadata": {},
   "outputs": [
    {
     "data": {
      "text/html": [
       "<div>\n",
       "<style scoped>\n",
       "    .dataframe tbody tr th:only-of-type {\n",
       "        vertical-align: middle;\n",
       "    }\n",
       "\n",
       "    .dataframe tbody tr th {\n",
       "        vertical-align: top;\n",
       "    }\n",
       "\n",
       "    .dataframe thead th {\n",
       "        text-align: right;\n",
       "    }\n",
       "</style>\n",
       "<table border=\"1\" class=\"dataframe\">\n",
       "  <thead>\n",
       "    <tr style=\"text-align: right;\">\n",
       "      <th></th>\n",
       "      <th>friends</th>\n",
       "      <th>happiness</th>\n",
       "    </tr>\n",
       "  </thead>\n",
       "  <tbody>\n",
       "    <tr>\n",
       "      <th>friends</th>\n",
       "      <td>1.000000</td>\n",
       "      <td>-0.216199</td>\n",
       "    </tr>\n",
       "    <tr>\n",
       "      <th>happiness</th>\n",
       "      <td>-0.216199</td>\n",
       "      <td>1.000000</td>\n",
       "    </tr>\n",
       "  </tbody>\n",
       "</table>\n",
       "</div>"
      ],
      "text/plain": [
       "            friends  happiness\n",
       "friends    1.000000  -0.216199\n",
       "happiness -0.216199   1.000000"
      ]
     },
     "execution_count": 4,
     "metadata": {},
     "output_type": "execute_result"
    }
   ],
   "source": [
    "# para calcular lo ceficinetes de una correlacion lineal \n",
    "df.corr()   \n",
    "# np.corrcoef(friends, happiness)"
   ]
  },
  {
   "cell_type": "markdown",
   "metadata": {},
   "source": [
    "# **Regla empirica**"
   ]
  },
  {
   "cell_type": "code",
   "execution_count": 25,
   "metadata": {},
   "outputs": [
    {
     "name": "stdout",
     "output_type": "stream",
     "text": [
      "el porcentaje dentro de la 1er desviacion es : 0.75 %\n",
      "el porcentaje dentro de la 2da desviacion es : 0.9166666666666666 %\n",
      "el porcentaje dentro de la 3era desviacion es : 1.0 %\n"
     ]
    }
   ],
   "source": [
    "# verificar si los datos de los amigos en facebook cumplen con la regla empirica\n",
    "\n",
    "# porcentaje que esta a una derivacion estandar\n",
    "print(\n",
    "    'el porcentaje dentro de la 1er desviacion es :',\n",
    "    df_scaled[(df_scaled['friends_scaled'] <= 1) & (df_scaled['friends_scaled'] >= -1)].shape[0] /\n",
    "    float(24),\n",
    "    '%')\n",
    "print(\n",
    "    'el porcentaje dentro de la 2da desviacion es :',\n",
    "    df_scaled[(df_scaled['friends_scaled'] <= 2) & (df_scaled['friends_scaled'] >= -2)].shape[0] /\n",
    "    float(24),\n",
    "    '%')\n",
    "print(\n",
    "    'el porcentaje dentro de la 3era desviacion es :',\n",
    "    df_scaled[(df_scaled['friends_scaled'] <= 3) & (df_scaled['friends_scaled'] >= -3)].shape[0] /\n",
    "    float(24),\n",
    "    '%')\n",
    "# notar q a los DateFrame se le puede aplicar un filtro booleano y devuelve otro DateFrame Boolenao\n",
    "#  que al unirlo con el DataFrame original solo obtenemos las filas que dieron True a la consulta\n"
   ]
  },
  {
   "cell_type": "markdown",
   "metadata": {},
   "source": [
    "en este caso podemos decir que de manera genral esta muestra de amigos de facebook parecen seguir la distribucion normal por la regla empirica ya que dentro de la primera desviacion hay un % de 75 y la regla empirica nos dice q debe ser un 68 pero no son numeros tan diferentes analogamente dentro de la segunda desviacion hay 925 y la regla nos dice 95 y finalmente en la 3era desviacion estan todos los datos y en la regla nos hablan de un 99.7 "
   ]
  }
 ],
 "metadata": {
  "kernelspec": {
   "display_name": "Python 3.10.4 64-bit",
   "language": "python",
   "name": "python3"
  },
  "language_info": {
   "codemirror_mode": {
    "name": "ipython",
    "version": 3
   },
   "file_extension": ".py",
   "mimetype": "text/x-python",
   "name": "python",
   "nbconvert_exporter": "python",
   "pygments_lexer": "ipython3",
   "version": "3.10.4"
  },
  "orig_nbformat": 4,
  "vscode": {
   "interpreter": {
    "hash": "37964de45fa06bc99b754cfc54b483ffac9c133df6b16baa187ef33bd89a6318"
   }
  }
 },
 "nbformat": 4,
 "nbformat_minor": 2
}
