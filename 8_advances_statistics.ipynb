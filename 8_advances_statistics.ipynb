{
 "cells": [
  {
   "cell_type": "markdown",
   "metadata": {},
   "source": [
    "# **point_estimates**"
   ]
  },
  {
   "cell_type": "code",
   "execution_count": 197,
   "metadata": {},
   "outputs": [],
   "source": [
    "import numpy as np\n",
    "import pandas as pd\n",
    "import scipy.stats as stats\n",
    "import matplotlib.pyplot as plt\n",
    "import math\n",
    "\n",
    "%matplotlib inline\n"
   ]
  },
  {
   "cell_type": "code",
   "execution_count": 198,
   "metadata": {},
   "outputs": [
    {
     "data": {
      "text/plain": [
       "<AxesSubplot:>"
      ]
     },
     "execution_count": 198,
     "metadata": {},
     "output_type": "execute_result"
    },
    {
     "data": {
      "image/png": "[encoded data removed]",
      "text/plain": [
       "<Figure size 432x288 with 1 Axes>"
      ]
     },
     "metadata": {
      "needs_background": "light"
     },
     "output_type": "display_data"
    }
   ],
   "source": [
    "np.random.seed(1234)  # para obtenr series aleatorias con los mismos valores cada vez\n",
    "\n",
    "# utilizar la distribucion de possion para simular 3000 personas que que se toman un descanso de\n",
    "#  60 min y  respondieron ala pregunta: cuantos min descansas al dia\n",
    "\n",
    "long_breaks = stats.poisson.rvs(        # generar variaciones aleatorias.\n",
    "    loc=10,     # loc es como una escpecie de variacion hacia abajo de los datos resp. a la media\n",
    "    mu=60,      # mu es la media\n",
    "    size=3000)  # tamaño de la muestra que se va a generar\n",
    "\n",
    "pd.Series(long_breaks).hist()\n"
   ]
  },
  {
   "cell_type": "code",
   "execution_count": 199,
   "metadata": {},
   "outputs": [
    {
     "data": {
      "text/plain": [
       "<AxesSubplot:>"
      ]
     },
     "execution_count": 199,
     "metadata": {},
     "output_type": "execute_result"
    },
    {
     "data": {
      "image/png": "[encoded data removed]",
      "text/plain": [
       "<Figure size 432x288 with 1 Axes>"
      ]
     },
     "metadata": {
      "needs_background": "light"
     },
     "output_type": "display_data"
    }
   ],
   "source": [
    "# utilizar la distribucion de possion para simular 6000 personas que que se toman un descanso de\n",
    "#  15 min y  respondieron ala pregunta: cuantos min descansas al dia\n",
    "short_breaks = stats.poisson.rvs(loc=10, mu=15, size=6000)  # generar variaciones aleatorias\n",
    "\n",
    "pd.Series(short_breaks).hist()\n"
   ]
  },
  {
   "cell_type": "code",
   "execution_count": 200,
   "metadata": {},
   "outputs": [
    {
     "data": {
      "text/plain": [
       "39.99944444444444"
      ]
     },
     "execution_count": 200,
     "metadata": {},
     "output_type": "execute_result"
    },
    {
     "data": {
      "image/png": "[encoded data removed]",
      "text/plain": [
       "<Figure size 432x288 with 1 Axes>"
      ]
     },
     "metadata": {
      "needs_background": "light"
     },
     "output_type": "display_data"
    }
   ],
   "source": [
    "# unir las dos matrices para obtenre una poblacion de 9000 personas\n",
    "breaks = np.concatenate((long_breaks, short_breaks))\n",
    "pd.Series(breaks).hist()\n",
    "breaks.mean()  # 39.99  population mean.\n"
   ]
  },
  {
   "cell_type": "markdown",
   "metadata": {},
   "source": [
    "como podemos ver la media de las pausas son de 40 min en un poblacion de 9000 empleados. En el mundo real nuestro objetivo seria estimar el parametro de la poblacion pq no se le puede preguntar a cada uno de los 9000 empleados.Y es por eso que usamos estimacion puntual : preguntando  a 100 personas al azar y obteniendo la media muestral"
   ]
  },
  {
   "cell_type": "code",
   "execution_count": 201,
   "metadata": {},
   "outputs": [
    {
     "data": {
      "text/plain": [
       "43.27"
      ]
     },
     "execution_count": 201,
     "metadata": {},
     "output_type": "execute_result"
    }
   ],
   "source": [
    "np.random.seed(12)  # para obtenr series aleatorias con los mismos valores cada vez\n",
    "sample100 = np.random.choice(a=breaks, size=100)\n",
    "sample100.mean()\n"
   ]
  },
  {
   "cell_type": "markdown",
   "metadata": {},
   "source": [
    "y lo que resulta interesante es que de una muestra aleatoria se mantuvo bastante cerca la media poblacional de la media de los datos y asi mismo ocurre con las proporciones de subpoblaciones dentro de la poblacion, por ejemplo la proporcion de hombres y mujeres en la muestra es similar a la que hay en la poblacion"
   ]
  },
  {
   "cell_type": "markdown",
   "metadata": {},
   "source": [
    "# **sampling_distribution(distibuciones muestrales)**\n",
    "Como podemos ver en el ultimo histograma los datos de las pausas de los empleados no se distribuyen de manera **normal** con el objetivo de lograr esto fue que utilzamos la **distribucion poisson** para generar las 9000 respuestas. \n",
    "Ahora a partir de nuestros datos vamos a crear datos normales producto de su importancia en muchas pruebas estadisticas. Para ellos necesitamos una **distribucion de muestreo** que es _una estimacion puntual de varias muestras del mismo tamaño_:"
   ]
  },
  {
   "cell_type": "code",
   "execution_count": 439,
   "metadata": {},
   "outputs": [
    {
     "data": {
      "text/plain": [
       "40.12561"
      ]
     },
     "execution_count": 439,
     "metadata": {},
     "output_type": "execute_result"
    },
    {
     "data": {
      "image/png": "[encoded data removed]",
      "text/plain": [
       "<Figure size 432x288 with 1 Axes>"
      ]
     },
     "metadata": {
      "needs_background": "light"
     },
     "output_type": "display_data"
    }
   ],
   "source": [
    "from random import random\n",
    "\n",
    "sampling_distribution = []\n",
    "# obtenre la estimacion muestal (media muestral) de 500 muestras de 100 empleados aleatorios\n",
    "for i in range(500):\n",
    "    sample = np.random.choice(a=breaks, size=200)\n",
    "    sampling_distribution.append(sample.mean())\n",
    "\n",
    "pd.DataFrame(sampling_distribution).hist()\n",
    "'''np.median(sampling_distribution)    # para calcular la mediana'''\n",
    "np.array(sampling_distribution).mean()\n"
   ]
  },
  {
   "cell_type": "markdown",
   "metadata": {},
   "source": [
    "Como podemos ver ```la distribucion muestal de la media se asemeja a una Distribucion Normal```, y es a causa del ``` Teorema Central del Limite``` . Es importante mencionar que las barras de este histograma representan la duracion media de las pausas de 500 muestras de 100 empleados.  \n",
    "# **confidence interval**"
   ]
  },
  {
   "cell_type": "code",
   "execution_count": 203,
   "metadata": {},
   "outputs": [
    {
     "data": {
      "text/plain": [
       "(36.41239292115715, 45.14760707884285)"
      ]
     },
     "execution_count": 203,
     "metadata": {},
     "output_type": "execute_result"
    }
   ],
   "source": [
    "sample_size = 100\n",
    "np.random.seed(1234)  # para obtenr series aleatorias con los mismos valores cada vez\n",
    "\n",
    "# seleccionar una muestra de 100 empleados\n",
    "sample = np.random.choice(a=breaks, size=sample_size)\n",
    "\n",
    "sample_stdev = sample.std()    # desviacion standar muestral\n",
    "\n",
    "# calcular el error estandar de la media o dicho de otro modola estimacion de la desviacion\n",
    "# estandar de la poblacion, que representa la variabilidad entre muestras\n",
    "\n",
    "sigma = sample_stdev/math.sqrt(sample_size)  # Usando la formula\n",
    "sigma = stats.sem(sample)                    # utilizando el metodo sem() standard error of the mean\n",
    "\n",
    "stats.t.interval(alpha=0.95,                         # Confidence level\n",
    "                 df=sample.size() - 1,     # Degrees of freedom(tamaño de la muestra - 1)\n",
    "                 loc=sample.mean(),                    # Sample mean\n",
    "                 scale=sigma)                        # Error estandar de la media\n"
   ]
  },
  {
   "cell_type": "markdown",
   "metadata": {},
   "source": [
    "Y este es el intervalo de confianza para el tiempo de pausa medio de los empleados con un 95% de confianza. Es decir que tenemos una probalilidad dde 0.95 de que el intervalo contenga el valor real de la media poblacional que como vimos anteriormente es 39.9, ahora para evidenciar en su totalidad el significado de un % de confianza vamos a contruir 10000 intervalosde confinaza y calcularemos el % de en cuantos el valor real de la media esta incluido en el intervalo "
   ]
  },
  {
   "cell_type": "code",
   "execution_count": 204,
   "metadata": {},
   "outputs": [
    {
     "name": "stdout",
     "output_type": "stream",
     "text": [
      "0.9468\n"
     ]
    }
   ],
   "source": [
    "def make_confidence_interval():\n",
    "    '''    this function is to create a confidence interval to 95%\n",
    "    '''\n",
    "    sample_size = 100\n",
    "\n",
    "    # seleccionar una muestra de 100 empleados\n",
    "    sample = np.random.choice(a=breaks, size=sample_size)\n",
    "\n",
    "    return stats.t.interval(alpha=0.95,                 # Confidence level\n",
    "                            df=sample_size - 1,     # Degrees of freedom(tamaño de la muestra - 1)\n",
    "                            loc=sample.mean(),          # Sample mean\n",
    "                            scale=stats.sem(sample))    # Standard deviation estimate\n",
    "\n",
    "\n",
    "sum = 0\n",
    "for i in range(10000):\n",
    "    interval = make_confidence_interval()\n",
    "    if interval[0] <= 39.9999 and interval[1] >= 39.9999:\n",
    "        sum += 1\n",
    "print(sum/float(10000))\n"
   ]
  },
  {
   "cell_type": "markdown",
   "metadata": {},
   "source": [
    "#### Lo que comprueba de que 10000 muestras el aprximadamente 95% de los intervalos contruidos contienen la media poblacional o real"
   ]
  },
  {
   "cell_type": "markdown",
   "metadata": {},
   "source": [
    "# **One sample t-test (prueba t de una muestra)**\n",
    "Determinar si existe una diferencia entre los tiempos de descanso de la poblacion general(empleados de la empresa) y  los tiempos de descanso de los empleados del departamento de ingenieria odicho de otro modo sis us medias son iguales"
   ]
  },
  {
   "cell_type": "code",
   "execution_count": 214,
   "metadata": {},
   "outputs": [
    {
     "data": {
      "text/plain": [
       "35.2025"
      ]
     },
     "execution_count": 214,
     "metadata": {},
     "output_type": "execute_result"
    }
   ],
   "source": [
    "np.random.seed(123)\n",
    "short_breaks_engineer = stats.poisson.rvs(loc=10, mu=15, size=300)\n",
    "long_breaks_engineer = stats.poisson.rvs(loc=10, mu=55, size=100)\n",
    "\n",
    "breaks_engineer = np.concatenate((short_breaks_engineer, long_breaks_engineer))\n",
    "breaks_engineer.mean()\n",
    "# como siempre no tenemos todos los datos para calcular la media poblacional y verificar si difieren o no las muestras; es por eso q resulta necesario las pruebas de hipotesis t de un muestra. \n"
   ]
  },
  {
   "cell_type": "code",
   "execution_count": 365,
   "metadata": {},
   "outputs": [
    {
     "data": {
      "text/plain": [
       "Ttest_1sampResult(statistic=-5.333475177902358, pvalue=1.6175171110769954e-07)"
      ]
     },
     "execution_count": 365,
     "metadata": {},
     "output_type": "execute_result"
    }
   ],
   "source": [
    "stats.ttest_1samp(a=breaks_engineer,               # Sample data\n",
    "                  popmean=breaks.mean())              # Population mean"
   ]
  },
  {
   "cell_type": "markdown",
   "metadata": {},
   "source": [
    "Como podemos ver nuetra muestra de engineer tiene **desviacion standar en notacion z igual a 5.333** \n",
    "respecto a la media poblacional lo que **da lugar a un p = 0.00000016** ```(este p se calcula con la funcion cdf(estadistico_t, df) que devuelve la funcion de distribucion acumulativa)) ```. y como este **p es menor** \n",
    "**que el nivel de significacion = 0.05, implica** q nuestra **hipoesis esta en la zona de rechazo**. \n",
    "Tal y como esperabamos ya que los datos no provienen de la misma poblacion, la hipotesis inicial \n",
    "es rechazada"
   ]
  },
  {
   "cell_type": "code",
   "execution_count": 335,
   "metadata": {},
   "outputs": [
    {
     "data": {
      "text/plain": [
       "Ttest_1sampResult(statistic=1.2370853590050261, pvalue=0.21678297769947288)"
      ]
     },
     "execution_count": 335,
     "metadata": {},
     "output_type": "execute_result"
    }
   ],
   "source": [
    "stats.ttest_1samp(a=np.random.choice(a=breaks, size=400),               # Sample data\n",
    "                  popmean=breaks.mean())              # Population mean\n",
    "stats.mo"
   ]
  },
  {
   "cell_type": "markdown",
   "metadata": {},
   "source": [
    "Sin embargo como podemos ver en este otro ejemplo si la muestra si proviene realmente de la\n",
    "poblacion,  los engineer tienen **desviacion standar en notacion z igual a 1.23** respecto a la media poblacional lo que **da lugar a un p = 0.21** ```(este p se calcula con la funcion cdf(estadistico_t, df) que devuelve la funcion de distribucion acumulativa)```. y como este **p es mayor que el nivel de**\n",
    "**significacion = 0.05, implica** q nuestra **hipoesis esta en la zona de no rechazo**."
   ]
  },
  {
   "cell_type": "markdown",
   "metadata": {},
   "source": [
    "#### **Para muestras de una sola cola( unilaterales)**\n",
    "**Con distribuciones simétricas el valor de p unilateral es solo la mitad del pvalue bilateral)**\n",
    "* prueba menor  ```H0: μ <= X̅```  **se rechaza H0** ssi: estadistico_t < 0 and p/2 < alpha\n",
    "\n",
    "* prueba mayor  ```H0: μ >= X̅```  **se rechaza H0** ssi: estadistico_t > 0 and p/2 < alpha"
   ]
  },
  {
   "cell_type": "markdown",
   "metadata": {},
   "source": [
    "**Otra manera** de saber si **rechazamos o no rechazamos la hipotesis** es _comprando el valor estaditco_t obtenido con el valor critico de T correspondiente al nivel de signficacion alfa_. Si es una prueba de dos colas(bidireccional) el valor de alpha de divide por 2. y calculamos ese valor de la siguiente manera :\n",
    "```python\n",
    "alpha = 0.05 or 0.05/2 # si es una prueba de una cola o si es una preuba de dos colas\n",
    "'''esta funcion ppf devuleve el valor al que corresponde una probabilidad acumulada-- (inverse of cdf) '''\n",
    "t_crit = stats.t.ppf(            # saber el valor critico T que corresponde con el nivel de significacion\n",
    "            alpha,      # nivel de sigificacion\n",
    "            df=399)     # grados de libertad ( tamaño de la muestra - 1)\n",
    "```\n",
    "Finalmente hacemos la grafica y vemos si el estadistico_t se en una zona de rechazo (**por fuera del T critico**) o de no rechazo\n",
    "\n",
    "* **El estadístico t obedece a la distribución t y, a medida que aumenta el grado de libertad (tamaño de muestra-1), la distribución t tiende gradualmente a la distribución normal.**"
   ]
  },
  {
   "cell_type": "markdown",
   "metadata": {},
   "source": [
    "# **Chi-square godness of fit test (Bondad de ajuste $X^2$)**"
   ]
  },
  {
   "cell_type": "code",
   "execution_count": 422,
   "metadata": {},
   "outputs": [
    {
     "data": {
      "text/plain": [
       "Power_divergenceResult(statistic=30.1817679275599, pvalue=1.26374310311106e-06)"
      ]
     },
     "execution_count": 422,
     "metadata": {},
     "output_type": "execute_result"
    }
   ],
   "source": [
    "# En un censo en 2009 los valores esperados de la poblacion de EEUU en % en cuatro categorias son :\n",
    "expected = np.array([0.312, 0.331, 0.294, 0.063])\n",
    "\n",
    "# de una muestra de 500 personas se recojen la siguiente observacion\n",
    "sample_size = 500\n",
    "observed = np.array([102, 178, 186, 34])\n",
    "\n",
    "stats.chisquare(f_obs=observed, f_exp=expected*sample_size)\n"
   ]
  },
  {
   "cell_type": "markdown",
   "metadata": {},
   "source": [
    "Como podemos ver el p_values  es < que el nivel de significacion 0.05 y por lo tanto se rechaza la hipotesis nula.\n",
    "```python \n",
    "# como calcular el valor de p a partir del estadistico Chi-cuadrado\n",
    "p_value = 1- stats.chi2.cdf(30.1817679275599, df=3) #1.2637431031636837e-06\n",
    "```"
   ]
  },
  {
   "cell_type": "markdown",
   "metadata": {},
   "source": [
    "# **Chi-square independence test ($X^2$ de Independencia)**\n"
   ]
  },
  {
   "cell_type": "code",
   "execution_count": 438,
   "metadata": {},
   "outputs": [
    {
     "name": "stdout",
     "output_type": "stream",
     "text": [
      "El estadistico es 0.8640353908896108  \n",
      " El valor de p asociado al estadistico es 0.6491978887380976 \n",
      " los grados de libertad(2-1) * (3-1)= 2 \n",
      " La matriz de valores esperados es \n",
      " [[115.   92.5  42.5]\n",
      " [115.   92.5  42.5]]\n"
     ]
    }
   ],
   "source": [
    "observed = np.array([[120, 90, 40],\n",
    "                     [110, 95, 45]])\n",
    "chi_squared, p_value, degrees_of_freedom, matrix_expected = stats.chi2_contingency(\n",
    "    observed=observed)\n",
    "print(f'El estadistico es {chi_squared}  \\n '\n",
    "      f'El valor de p asociado al estadistico es {p_value} \\n los grados de libertad(2-1) * (3-1)=' \n",
    "      f' {degrees_of_freedom} \\n La matriz de valores esperados es: \\n {matrix_expected}')\n"
   ]
  },
  {
   "cell_type": "markdown",
   "metadata": {},
   "source": [
    "Donde cada fila de la matriz esperada se calcula con la formula Σ(suma_fila)* Σ(suma_columna) / n\n",
    "\n",
    "Dado que este valor p no es menor que 0.05, no rechazamos la hipótesis nula. Esto significa que no tenemos evidencia suficiente para decir que existe una asociación entre género y preferencia de partido político."
   ]
  }
 ],
 "metadata": {
  "kernelspec": {
   "display_name": "Python 3.10.4 64-bit",
   "language": "python",
   "name": "python3"
  },
  "language_info": {
   "codemirror_mode": {
    "name": "ipython",
    "version": 3
   },
   "file_extension": ".py",
   "mimetype": "text/x-python",
   "name": "python",
   "nbconvert_exporter": "python",
   "pygments_lexer": "ipython3",
   "version": "3.10.4"
  },
  "orig_nbformat": 4,
  "vscode": {
   "interpreter": {
    "hash": "37964de45fa06bc99b754cfc54b483ffac9c133df6b16baa187ef33bd89a6318"
   }
  }
 },
 "nbformat": 4,
 "nbformat_minor": 2
}
